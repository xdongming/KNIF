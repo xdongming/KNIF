{
 "cells": [
  {
   "cell_type": "code",
   "execution_count": 102,
   "id": "3fc14cf2-e185-43e7-acf5-12e9a19d43ff",
   "metadata": {
    "tags": []
   },
   "outputs": [],
   "source": [
    "import numpy as np\n",
    "import matplotlib.pyplot as plt\n",
    "import pandas as pd\n",
    "import torch\n",
    "import torch.nn as nn\n",
    "import torch.optim as optim\n",
    "from sklearn.model_selection import train_test_split\n",
    "from matplotlib.colors import ListedColormap\n",
    "from itertools import product"
   ]
  },
  {
   "cell_type": "code",
   "execution_count": 152,
   "id": "21cdd33c-4724-4547-b464-fe69d0671acf",
   "metadata": {
    "tags": []
   },
   "outputs": [],
   "source": [
    "T = 101\n",
    "sigma = 0.01\n",
    "theta = np.linspace(0, (T-1)*0.1, T)\n",
    "x_seq = pd.read_csv('real.csv', header=None).values.T.astype(np.float32)\n",
    "x_noise = x_seq + np.random.normal(scale=sigma, size=x_seq.shape).astype(np.float32)\n",
    "\n",
    "x_t = torch.tensor(x_noise[:-1])\n",
    "x_tp1 = torch.tensor(x_noise[1:])"
   ]
  },
  {
   "cell_type": "code",
   "execution_count": 127,
   "id": "89feb32a-6a90-4b69-871c-053980a1e94e",
   "metadata": {
    "tags": []
   },
   "outputs": [],
   "source": [
    "class KoopmanAutoEncoder(nn.Module):\n",
    "    def __init__(self):\n",
    "        super().__init__()\n",
    "        self.encoder = nn.Sequential(\n",
    "            nn.Linear(2, 8),\n",
    "            nn.ReLU(),\n",
    "            nn.Linear(8, 5)\n",
    "        )\n",
    "        self.decoder = nn.Sequential(\n",
    "            nn.Linear(5, 8),\n",
    "            nn.ReLU(),\n",
    "            nn.Linear(8, 2)\n",
    "        )\n",
    "        self.K = nn.Parameter(torch.randn(5, 5))  # Koopman operator K\n",
    "\n",
    "    def forward(self, x):\n",
    "        z = self.encoder(x)           # z_t\n",
    "        z_next_pred = z @ self.K.T   # z_{t+1} ≈ K z_t\n",
    "        x_recon = self.decoder(z)    \n",
    "        return z, z_next_pred, x_recon"
   ]
  },
  {
   "cell_type": "code",
   "execution_count": null,
   "id": "fe20631b-ca0c-4c25-a6b3-7a46ecb9ae30",
   "metadata": {
    "tags": []
   },
   "outputs": [],
   "source": [
    "best_loss = float('inf')\n",
    "best_model_state = None\n",
    "\n",
    "model = KoopmanAutoEncoder()\n",
    "optimizer = optim.AdamW(model.parameters(), lr=1e-3)\n",
    "loss_fn = nn.MSELoss()\n",
    "\n",
    "num_epochs = 9999\n",
    "for epoch in range(num_epochs):\n",
    "    model.train()\n",
    "    optimizer.zero_grad()\n",
    "\n",
    "    z_t, z_tp1_pred, x_recon = model(x_t)\n",
    "    z_tp1 = model.encoder(x_tp1).detach()  \n",
    "\n",
    "    loss_recon = loss_fn(x_recon, x_t)\n",
    "    loss_koop = loss_fn(z_tp1_pred, z_tp1)\n",
    "    loss = loss_recon + loss_koop\n",
    "    loss.backward()\n",
    "    optimizer.step()\n",
    "    \n",
    "    if loss.item() < best_loss:\n",
    "        best_loss = loss.item()\n",
    "        best_model_state = model.state_dict()\n",
    "\n",
    "    if epoch % 100 == 0:\n",
    "        print(f\"Epoch {epoch}: Loss = {loss.item():.6f}\")\n",
    "        \n",
    "model.load_state_dict(best_model_state)\n",
    "model.eval()\n",
    "print(\"Loss =\", best_loss)"
   ]
  },
  {
   "cell_type": "code",
   "execution_count": 160,
   "id": "76d8b9d4-1467-4ead-aaef-20f193d55acb",
   "metadata": {
    "tags": []
   },
   "outputs": [
    {
     "data": {
      "image/png": "[encoded data removed]",
      "text/plain": [
       "<Figure size 400x400 with 1 Axes>"
      ]
     },
     "metadata": {},
     "output_type": "display_data"
    }
   ],
   "source": [
    "model.eval()\n",
    "with torch.no_grad():\n",
    "    z_all, _, x_recon_all = model(torch.tensor(x_noise))\n",
    "\n",
    "z_all_np = z_all.numpy()\n",
    "x_recon_all_np = x_recon_all.numpy()\n",
    "\n",
    "plt.figure(figsize=(4, 4))\n",
    "\n",
    "plt.plot(x_recon_all_np[:30, 0], x_recon_all_np[:30, 1], color='#94346E', linewidth=1.5, label='Median')\n",
    "plt.scatter(x_noise[:30, 0], x_noise[:30, 1], facecolors='none', edgecolors='#56B4E9', s=20, linewidths=2.0, label='Test')\n",
    "\n",
    "plt.axis('off')\n",
    "\n",
    "plt.tight_layout()\n",
    "\n",
    "plt.show()"
   ]
  },
  {
   "cell_type": "code",
   "execution_count": 155,
   "id": "efa77cbe-59e9-4111-a498-5a0234205c34",
   "metadata": {
    "tags": []
   },
   "outputs": [],
   "source": [
    "def observable_basis(x: np.ndarray) -> np.ndarray:\n",
    "    x1 = x[:, 0]\n",
    "    x2 = x[:, 1]\n",
    "    g_list = [x1, x2, x1 ** 2]\n",
    "    return np.stack(g_list, axis=1)\n",
    "\n",
    "def dmd(x: np.ndarray) -> np.ndarray:\n",
    "    X = x[:-1].T  # x_t\n",
    "    Y = x[1:].T   # x_{t+1}\n",
    "    \n",
    "    A = Y @ np.linalg.pinv(X)\n",
    "    return A.astype(np.float32)"
   ]
  },
  {
   "cell_type": "code",
   "execution_count": 156,
   "id": "dd635973-c10b-4b80-bb30-0c9e1564c759",
   "metadata": {
    "tags": []
   },
   "outputs": [],
   "source": [
    "Z = observable_basis(x_noise)       # shape (T, 3)\n",
    "A_edmd = dmd(Z)      # shape (3, 3)\n",
    "\n",
    "g_pred = [Z[0]]\n",
    "for _ in range(1, T):\n",
    "    g_pred.append(g_pred[-1] @ A_edmd.T)\n",
    "g_pred = np.stack(g_pred)\n",
    "\n",
    "x_recon = g_pred[:, :2]"
   ]
  },
  {
   "cell_type": "code",
   "execution_count": 157,
   "id": "45d35aef-685c-4b85-9069-31d06be2d645",
   "metadata": {
    "tags": []
   },
   "outputs": [
    {
     "data": {
      "text/plain": [
       "(101, 2)"
      ]
     },
     "execution_count": 157,
     "metadata": {},
     "output_type": "execute_result"
    }
   ],
   "source": [
    "x_recon.shape"
   ]
  },
  {
   "cell_type": "code",
   "execution_count": 159,
   "id": "fce2f86a-515e-4037-95da-63e209ca4e44",
   "metadata": {
    "tags": []
   },
   "outputs": [
    {
     "data": {
      "image/png": "[encoded data removed]",
      "text/plain": [
       "<Figure size 400x400 with 1 Axes>"
      ]
     },
     "metadata": {},
     "output_type": "display_data"
    }
   ],
   "source": [
    "plt.figure(figsize=(4, 4))\n",
    "plt.plot(x_recon[:30, 0], x_recon[:30, 1], color='#94346E', linewidth=1.5)\n",
    "plt.scatter(x_noise[:30, 0], x_noise[:30, 1], facecolors='none', edgecolors='#56B4E9', s=20, linewidths=2.0)\n",
    "plt.axis('off')\n",
    "plt.tight_layout()\n",
    "plt.show()"
   ]
  },
  {
   "cell_type": "code",
   "execution_count": null,
   "id": "d88e2fd2-500c-4b65-9e92-92b8d0a1b902",
   "metadata": {},
   "outputs": [],
   "source": []
  }
 ],
 "metadata": {
  "kernelspec": {
   "display_name": "Python 3 (ipykernel)",
   "language": "python",
   "name": "python3"
  },
  "language_info": {
   "codemirror_mode": {
    "name": "ipython",
    "version": 3
   },
   "file_extension": ".py",
   "mimetype": "text/x-python",
   "name": "python",
   "nbconvert_exporter": "python",
   "pygments_lexer": "ipython3",
   "version": "3.11.9"
  }
 },
 "nbformat": 4,
 "nbformat_minor": 5
}
