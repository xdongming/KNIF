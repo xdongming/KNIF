{
 "cells": [
  {
   "cell_type": "code",
   "execution_count": null,
   "id": "050e659e-20f4-4b07-b724-21cb2ef26b76",
   "metadata": {
    "tags": []
   },
   "outputs": [],
   "source": [
    "import numpy as np\n",
    "import pandas as pd\n",
    "import tensorflow.compat.v1 as tf\n",
    "from koopmanlib.dictionary import PsiNN\n",
    "from koopmanlib.solver import KoopmanDLSolver\n",
    "from matplotlib import pyplot as plt"
   ]
  },
  {
   "cell_type": "code",
   "execution_count": null,
   "id": "b602e280-468b-4cf2-a863-55ec84de6de8",
   "metadata": {
    "tags": []
   },
   "outputs": [],
   "source": [
    "dim = 3  \n",
    "hidden_dim = 20\n",
    "input_dim = 0\n",
    "n_feature = 17\n",
    "num_epochs = 100\n",
    "batch_size = 512\n",
    "n_train = 10000\n",
    "n_valid = 1000\n",
    "n_test = 1000\n",
    "learning_rate = 1e-3"
   ]
  },
  {
   "cell_type": "code",
   "execution_count": null,
   "id": "21b66ab6-1790-40ea-8768-31a3b8363d6e",
   "metadata": {
    "tags": []
   },
   "outputs": [],
   "source": [
    "X_train = pd.read_csv('Non_X_train.csv', header=None).values\n",
    "X_valid = pd.read_csv('Non_X_valid.csv', header=None).values\n",
    "X_test = pd.read_csv('Non_X_test.csv', header=None).values\n",
    "U_train = pd.read_csv('Non_U_train.csv', header=None).values\n",
    "U_valid = pd.read_csv('Non_U_valid.csv', header=None).values\n",
    "U_test = pd.read_csv('Non_U_test.csv', header=None).values\n",
    "\n",
    "length = X_train.shape[1] // n_train\n",
    "HX_train = []\n",
    "HU_train = []\n",
    "for i in range(n_train):\n",
    "    HX_train.append(X_train[:, i*length:(i+1)*length])\n",
    "    HU_train.append(U_train[:, i*length:(i+1)*length])\n",
    "HX_train = np.stack([HX_train[idx].T for idx in range(n_train)], axis=0)\n",
    "HU_train = np.stack([HU_train[idx].T for idx in range(n_train)], axis=0)\n",
    "HX_valid = []\n",
    "HU_valid = []\n",
    "for i in range(n_valid):\n",
    "    HX_valid.append(X_valid[:, i*length:(i+1)*length])\n",
    "    HU_valid.append(U_valid[:, i*length:(i+1)*length])\n",
    "HX_valid = np.stack([HX_valid[idx].T for idx in range(n_valid)], axis=0)\n",
    "HU_valid = np.stack([HU_valid[idx].T for idx in range(n_valid)], axis=0)\n",
    "\n",
    "H_train = np.concatenate([HX_train, HU_train], axis=-1)\n",
    "H_valid = np.concatenate([HX_valid, HU_valid], axis=-1)"
   ]
  },
  {
   "cell_type": "code",
   "execution_count": null,
   "id": "c31b4457-3c72-40df-b3ee-036020940634",
   "metadata": {
    "tags": []
   },
   "outputs": [],
   "source": [
    "data_train = [H_train[:, 0:-1,:].reshape(-1, dim), H_train[:, 1:,:].reshape(-1, dim)]\n",
    "data_valid = [H_valid[:, 0:-1,:].reshape(-1, dim), H_valid[:, 1:,:].reshape(-1, dim)]\n",
    "basis_function = PsiNN(layer_sizes=[hidden_dim, hidden_dim, hidden_dim], n_psi_train=dim+n_feature)\n",
    "solver = KoopmanDLSolver(dic=basis_function,\n",
    "                             target_dim=dim,\n",
    "                             reg=0.0)\n",
    "solver.build(data_train=data_train,\n",
    "                 data_valid=data_valid,\n",
    "                 epochs=num_epochs,\n",
    "                 batch_size=batch_size,\n",
    "                 lr=learning_rate,\n",
    "                 log_interval=1,\n",
    "                 lr_decay_factor=0.92)\n",
    "    \n",
    "# df.to_csv(\"noise.csv\", index=False)"
   ]
  },
  {
   "cell_type": "code",
   "execution_count": null,
   "id": "81d92821-727a-486a-93c7-06f36f9c2cbb",
   "metadata": {
    "tags": []
   },
   "outputs": [],
   "source": [
    "length = X_test.shape[1] // n_test\n",
    "HX_test = []\n",
    "HU_test = []\n",
    "for i in range(n_test):\n",
    "    HX_test.append(X_test[:, i*length:(i+1)*length])\n",
    "    HU_test.append(U_test[:, i*length:(i+1)*length])\n",
    "HX_test = np.stack([HX_test[idx].T for idx in range(n_test)], axis=0)\n",
    "HU_test = np.stack([HU_test[idx].T for idx in range(n_test)], axis=0)\n",
    "\n",
    "H_test = np.concatenate([HX_test, HU_test], axis=-1)"
   ]
  },
  {
   "cell_type": "code",
   "execution_count": null,
   "id": "ca174aeb-2715-406d-91e9-29e74f5f06e5",
   "metadata": {
    "tags": []
   },
   "outputs": [],
   "source": [
    "x_pred_list = []\n",
    "for i in range(n_test):\n",
    "    x0_test = H_test[i, :1, :]\n",
    "    x_pred_list.append(solver.predict(x0_test, 60)[:, :2])\n",
    "X_pred = np.stack(x_pred_list, axis=0)"
   ]
  },
  {
   "cell_type": "code",
   "execution_count": null,
   "id": "9eba4051-ee84-4157-bfa8-d7e8859b28c6",
   "metadata": {
    "tags": []
   },
   "outputs": [],
   "source": [
    "np.mean((X_pred - HX_test[:, 1:, :])**2)"
   ]
  },
  {
   "cell_type": "code",
   "execution_count": null,
   "id": "2e3ec266-7b26-4fad-96ed-0c9b2a5a51c1",
   "metadata": {
    "tags": []
   },
   "outputs": [],
   "source": [
    "np.save('mse_edmddl.npy', np.mean((X_pred - HX_test[:, 1:, :])**2, axis=(0, 2)))"
   ]
  },
  {
   "cell_type": "code",
   "execution_count": null,
   "id": "d36dabe8-5e3c-4773-876d-e32011d3a539",
   "metadata": {
    "tags": []
   },
   "outputs": [],
   "source": [
    "mse = np.load('mse_edmddl.npy')"
   ]
  }
 ],
 "metadata": {
  "kernelspec": {
   "display_name": "Python 3 (ipykernel)",
   "language": "python",
   "name": "python3"
  },
  "language_info": {
   "codemirror_mode": {
    "name": "ipython",
    "version": 3
   },
   "file_extension": ".py",
   "mimetype": "text/x-python",
   "name": "python",
   "nbconvert_exporter": "python",
   "pygments_lexer": "ipython3",
   "version": "3.11.9"
  }
 },
 "nbformat": 4,
 "nbformat_minor": 5
}
