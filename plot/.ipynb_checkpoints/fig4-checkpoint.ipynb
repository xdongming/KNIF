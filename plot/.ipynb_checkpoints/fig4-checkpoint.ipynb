{
 "cells": [
  {
   "cell_type": "code",
   "execution_count": 1,
   "id": "050e659e-20f4-4b07-b724-21cb2ef26b76",
   "metadata": {
    "tags": []
   },
   "outputs": [],
   "source": [
    "import numpy as np\n",
    "import pandas as pd\n",
    "import seaborn as sns\n",
    "from matplotlib import pyplot as plt\n",
    "import torch\n",
    "import torch.nn as nn\n",
    "import torch.optim as optim\n",
    "from torch.utils.data import DataLoader, TensorDataset\n",
    "import torch.nn.functional as F\n",
    "from torch.func import vmap, jacrev\n",
    "from tqdm import tqdm\n",
    "import os\n",
    "import random\n",
    "import pytorch_lightning as pl\n",
    "from pytorch_lightning.callbacks import ModelCheckpoint\n",
    "from pytorch_lightning.callbacks import Callback\n",
    "import math\n",
    "from pydmd import DMD\n",
    "from sklearn.preprocessing import MinMaxScaler\n",
    "import warnings\n",
    "from matplotlib import cm\n",
    "from scipy.interpolate import interp1d\n",
    "from scipy.stats import mannwhitneyu\n",
    "from matplotlib.font_manager import FontProperties\n",
    "from matplotlib import rcParams\n",
    "from matplotlib.ticker import FixedLocator\n",
    "from matplotlib.ticker import LogFormatterMathtext"
   ]
  },
  {
   "cell_type": "code",
   "execution_count": 2,
   "id": "942913e3-bba3-4ed0-8374-7c94a4aaa146",
   "metadata": {
    "tags": []
   },
   "outputs": [],
   "source": [
    "full = pd.read_csv('full.csv').values\n",
    "ae = pd.read_csv('ae.csv').values\n",
    "concat = pd.read_csv('concat.csv').values\n",
    "zeropad = pd.read_csv('zeropad.csv').values"
   ]
  },
  {
   "cell_type": "code",
   "execution_count": 3,
   "id": "a7dae38b-1952-4451-855c-a6f75233dcaa",
   "metadata": {
    "tags": []
   },
   "outputs": [],
   "source": [
    "full_m = np.mean(full, axis=1)\n",
    "ae_m = np.mean(ae, axis=1)\n",
    "concat_m = np.mean(concat, axis=1)\n",
    "zeropad_m = np.mean(zeropad, axis=1)"
   ]
  },
  {
   "cell_type": "code",
   "execution_count": 4,
   "id": "acd99b08-565d-4b61-a7c8-e527b5ccc0f0",
   "metadata": {
    "tags": []
   },
   "outputs": [],
   "source": [
    "font_path = \"/root/.fonts/arial.ttf\"\n",
    "from matplotlib import font_manager\n",
    "font_manager.fontManager.addfont(font_path)"
   ]
  },
  {
   "cell_type": "code",
   "execution_count": 12,
   "id": "28e69031-7dc0-4649-a50b-4403a058200e",
   "metadata": {
    "tags": []
   },
   "outputs": [
    {
     "name": "stderr",
     "output_type": "stream",
     "text": [
      "/tmp/ipykernel_2733/946318957.py:23: FutureWarning: \n",
      "\n",
      "Passing `palette` without assigning `hue` is deprecated and will be removed in v0.14.0. Assign the `x` variable to `hue` and set `legend=False` for the same effect.\n",
      "\n",
      "  sns.boxplot(\n"
     ]
    },
    {
     "data": {
      "image/png": "[encoded data removed]",
      "text/plain": [
       "<Figure size 500x600 with 1 Axes>"
      ]
     },
     "metadata": {},
     "output_type": "display_data"
    }
   ],
   "source": [
    "size = 18\n",
    "\n",
    "arial_font = FontProperties(fname=\"/root/.fonts/arial.ttf\", size=size)\n",
    "symbol_font = FontProperties(family='DejaVu Sans', size=size) \n",
    "rcParams['font.family'] = arial_font.get_name()\n",
    "\n",
    "data_dict = {\n",
    "    'a': full_m,\n",
    "    'b': zeropad_m,\n",
    "    'c': concat_m,\n",
    "    'd': ae_m,\n",
    "}\n",
    "df = pd.DataFrame(data_dict)\n",
    "df_long = df.melt(var_name='Method', value_name='Error')\n",
    "\n",
    "fill_colors = ['#F1C77E', '#A4D2F0', '#89D3B2', '#D6A4C4']\n",
    "edge_colors = ['#B07C00', '#2C6DA1', '#00694C', '#934A84']\n",
    "\n",
    "fig, ax = plt.subplots(figsize=(5, 6))\n",
    "sns.boxplot(\n",
    "    x='Method', y='Error', data=df_long,\n",
    "    palette=fill_colors,\n",
    "    width=0.5, linewidth=1.5,\n",
    "    showfliers=False, ax=ax\n",
    ")\n",
    "\n",
    "ax.set_ylim(0.00011, 0.5)\n",
    "ax.set_yscale('log')\n",
    "ax.set_ylabel('Testset reconstruction error (MSE)', fontsize=size, fontproperties=arial_font, labelpad=65)\n",
    "ax.set_xlabel('')\n",
    "ax.set_xticks([])\n",
    "ax.set_yticks([])\n",
    "\n",
    "xtick_labels = list(data_dict.keys())\n",
    "for i, label in enumerate(xtick_labels):\n",
    "    ax.text(\n",
    "        i, ax.get_ylim()[0] / 1.4,\n",
    "        label,\n",
    "        ha='center', va='center',\n",
    "        fontsize=size,\n",
    "        fontweight='bold',\n",
    "        fontproperties=symbol_font,\n",
    "        clip_on=False\n",
    "    )\n",
    "\n",
    "yticks = [1e-3, 1e-2, 1e-1]\n",
    "for y in yticks:\n",
    "    ax.text(\n",
    "        -0.7, y,\n",
    "        f\"$10^{{{int(np.log10(y))}}}$\",\n",
    "        ha='right', va='center',\n",
    "        fontsize=size,\n",
    "        fontproperties=arial_font,\n",
    "        clip_on=False\n",
    "    )\n",
    "\n",
    "for i, patch in enumerate(ax.patches):\n",
    "    patch.set_edgecolor(edge_colors[i])\n",
    "    patch.set_linewidth(1.5)\n",
    "\n",
    "lines = ax.lines\n",
    "n_boxes = len(data_dict)\n",
    "lines_per_box = len(lines) // n_boxes\n",
    "for i in range(n_boxes):\n",
    "    for j in range(lines_per_box):\n",
    "        idx = i * lines_per_box + j\n",
    "        lines[idx].set_color(edge_colors[i])\n",
    "        lines[idx].set_linewidth(1.5)\n",
    "\n",
    "for line in ax.lines:\n",
    "    ydata = line.get_ydata()\n",
    "    if len(np.unique(ydata)) == 1:\n",
    "        x_center = np.mean(line.get_xdata())\n",
    "        group_idx = np.argmin([abs(x_center - i) for i in range(n_boxes)])\n",
    "        line.set_color(edge_colors[group_idx])\n",
    "        line.set_linewidth(1.5)\n",
    "\n",
    "description = [\n",
    "    (\"★\", \"Full\\nframework\"),\n",
    "    (\"①\", \"Invertible\\nextension\\nmodule\\nablated\"),\n",
    "    (\"②\", \"Conditional\\ninput\\nablated\"),\n",
    "    (\"③\", \"Normalizing\\nflow\\nmodule\\nablated\")\n",
    "]\n",
    "\n",
    "x_text = len(data_dict) - 0.4\n",
    "y_min, y_max = ax.get_ylim()\n",
    "y_center = (y_max * y_min) ** 0.5\n",
    "line_spacing = (y_max / y_min) ** (1 / 3.2)\n",
    "start_y = y_center * (line_spacing ** (len(description) // 2))\n",
    "\n",
    "sns.despine(top=True, right=True)\n",
    "plt.tight_layout()\n",
    "plt.savefig(\"non_boxplot.svg\", format='svg', bbox_inches='tight')\n",
    "plt.show()"
   ]
  },
  {
   "cell_type": "code",
   "execution_count": 5,
   "id": "10d1458f-91da-4051-8eb7-256c8a79f821",
   "metadata": {
    "tags": []
   },
   "outputs": [],
   "source": [
    "full = pd.read_csv('limit_full.csv').values\n",
    "ae = pd.read_csv('limit_ae.csv').values\n",
    "concat = pd.read_csv('limit_concat.csv').values\n",
    "zeropad = pd.read_csv('limit_zeropad.csv').values\n",
    "full_m = np.mean(full, axis=1)\n",
    "ae_m = np.mean(ae, axis=1)\n",
    "concat_m = np.mean(concat, axis=1)\n",
    "zeropad_m = np.mean(zeropad, axis=1)"
   ]
  },
  {
   "cell_type": "code",
   "execution_count": 18,
   "id": "e1205dac-ecf2-4c04-984a-7641bfcb2b33",
   "metadata": {
    "tags": []
   },
   "outputs": [
    {
     "name": "stderr",
     "output_type": "stream",
     "text": [
      "/tmp/ipykernel_320/2307853073.py:23: FutureWarning: \n",
      "\n",
      "Passing `palette` without assigning `hue` is deprecated and will be removed in v0.14.0. Assign the `x` variable to `hue` and set `legend=False` for the same effect.\n",
      "\n",
      "  sns.boxplot(\n"
     ]
    },
    {
     "data": {
      "image/png": "[encoded data removed]",
      "text/plain": [
       "<Figure size 500x400 with 1 Axes>"
      ]
     },
     "metadata": {},
     "output_type": "display_data"
    }
   ],
   "source": [
    "size = 18\n",
    "\n",
    "arial_font = FontProperties(fname=\"/root/.fonts/arial.ttf\", size=size)\n",
    "symbol_font = FontProperties(family='DejaVu Sans', size=size) \n",
    "rcParams['font.family'] = arial_font.get_name()\n",
    "\n",
    "data_dict = {\n",
    "    '★': full_m,\n",
    "    '①': zeropad_m,\n",
    "    '②': concat_m,\n",
    "    '③': ae_m,\n",
    "}\n",
    "df = pd.DataFrame(data_dict)\n",
    "df_long = df.melt(var_name='Method', value_name='Error')\n",
    "\n",
    "fill_colors = ['#F1C77E', '#A4D2F0', '#89D3B2', '#D6A4C4']\n",
    "edge_colors = ['#B07C00', '#2C6DA1', '#00694C', '#934A84']\n",
    "\n",
    "fig, ax = plt.subplots(figsize=(5, 4))\n",
    "sns.boxplot(\n",
    "    x='Method', y='Error', data=df_long,\n",
    "    palette=fill_colors,\n",
    "    width=0.5, linewidth=1.5,\n",
    "    showfliers=False, ax=ax\n",
    ")\n",
    "\n",
    "ax.set_ylim(0.00001, 100)\n",
    "ax.set_yscale('log')\n",
    "ax.set_ylabel('Testset reconstruction error (MSE)', fontsize=size, fontproperties=arial_font, labelpad=65)\n",
    "ax.yaxis.set_label_coords(-0.25, 0.45)\n",
    "ax.set_xlabel('')\n",
    "ax.set_xticks([])\n",
    "ax.set_yticks([])\n",
    "\n",
    "xtick_labels = list(data_dict.keys())\n",
    "for i, label in enumerate(xtick_labels):\n",
    "    ax.text(\n",
    "        i, ax.get_ylim()[0] / 3,\n",
    "        label,\n",
    "        ha='center', va='center',\n",
    "        fontsize=size,\n",
    "        fontproperties=symbol_font,\n",
    "        clip_on=False\n",
    "    )\n",
    "\n",
    "yticks = [1e-5, 1e-4, 1e-3, 1e-2, 1e-1, 1e+0, 1e+1]\n",
    "for y in yticks:\n",
    "    ax.text(\n",
    "        -0.7, y,\n",
    "        f\"$10^{{{int(np.log10(y))}}}$\",\n",
    "        ha='right', va='center',\n",
    "        fontsize=size,\n",
    "        fontproperties=arial_font,\n",
    "        clip_on=False\n",
    "    )\n",
    "\n",
    "for i, patch in enumerate(ax.patches):\n",
    "    patch.set_edgecolor(edge_colors[i])\n",
    "    patch.set_linewidth(1.5)\n",
    "\n",
    "lines = ax.lines\n",
    "n_boxes = len(data_dict)\n",
    "lines_per_box = len(lines) // n_boxes\n",
    "for i in range(n_boxes):\n",
    "    for j in range(lines_per_box):\n",
    "        idx = i * lines_per_box + j\n",
    "        lines[idx].set_color(edge_colors[i])\n",
    "        lines[idx].set_linewidth(1.5)\n",
    "\n",
    "for line in ax.lines:\n",
    "    ydata = line.get_ydata()\n",
    "    if len(np.unique(ydata)) == 1:\n",
    "        x_center = np.mean(line.get_xdata())\n",
    "        group_idx = np.argmin([abs(x_center - i) for i in range(n_boxes)])\n",
    "        line.set_color(edge_colors[group_idx])\n",
    "        line.set_linewidth(1.5)\n",
    "\n",
    "description = [\n",
    "    (\"★\", \"Full\\nframework\"),\n",
    "    (\"①\", \"Invertible\\nextension\\nmodule\\nablated\"),\n",
    "    (\"②\", \"Conditional\\ninput\\nablated\"),\n",
    "    (\"③\", \"Normalizing\\nflow\\nmodule\\nablated\")\n",
    "]\n",
    "\n",
    "x_text = len(data_dict) - 0.4\n",
    "y_min, y_max = ax.get_ylim()\n",
    "y_center = (y_max * y_min) ** 0.5\n",
    "line_spacing = (y_max / y_min) ** (1 / 3.5)\n",
    "start_y = y_center * (line_spacing ** (len(description) // 2))\n",
    "\n",
    "ax.set_position([0.15, 0.15, 0.6, 0.6])\n",
    "\n",
    "sns.despine(top=True, right=True)\n",
    "plt.tight_layout()\n",
    "plt.savefig(\"limit_boxplot.svg\", format='svg', bbox_inches='tight')\n",
    "plt.show()"
   ]
  },
  {
   "cell_type": "code",
   "execution_count": 16,
   "id": "73b0c528-2f2a-49d6-888c-89c0884c71f8",
   "metadata": {
    "tags": []
   },
   "outputs": [
    {
     "data": {
      "text/plain": [
       "0.00980381861622747"
      ]
     },
     "execution_count": 16,
     "metadata": {},
     "output_type": "execute_result"
    }
   ],
   "source": [
    "statistic, p_value = mannwhitneyu(full_m, zeropad_m, alternative='two-sided')\n",
    "p_value"
   ]
  },
  {
   "cell_type": "code",
   "execution_count": null,
   "id": "407c5c36-041b-444c-8737-de7b96974aec",
   "metadata": {},
   "outputs": [],
   "source": []
  }
 ],
 "metadata": {
  "kernelspec": {
   "display_name": "Python 3 (ipykernel)",
   "language": "python",
   "name": "python3"
  },
  "language_info": {
   "codemirror_mode": {
    "name": "ipython",
    "version": 3
   },
   "file_extension": ".py",
   "mimetype": "text/x-python",
   "name": "python",
   "nbconvert_exporter": "python",
   "pygments_lexer": "ipython3",
   "version": "3.11.9"
  }
 },
 "nbformat": 4,
 "nbformat_minor": 5
}
