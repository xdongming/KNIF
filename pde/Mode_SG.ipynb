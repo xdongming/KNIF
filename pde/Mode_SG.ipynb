{
 "cells": [
  {
   "cell_type": "code",
   "execution_count": 1,
   "id": "050e659e-20f4-4b07-b724-21cb2ef26b76",
   "metadata": {
    "tags": []
   },
   "outputs": [],
   "source": [
    "import numpy as np\n",
    "import pandas as pd\n",
    "from matplotlib import pyplot as plt\n",
    "import torch\n",
    "import torch.nn as nn\n",
    "import torch.optim as optim\n",
    "from torch.utils.data import DataLoader, TensorDataset\n",
    "import torch.nn.functional as F\n",
    "from torch.func import vmap, jacrev\n",
    "from tqdm import tqdm\n",
    "import os\n",
    "import random\n",
    "import pytorch_lightning as pl\n",
    "from pytorch_lightning.callbacks import ModelCheckpoint\n",
    "from pytorch_lightning.callbacks import Callback\n",
    "import math\n",
    "from pydmd import DMD\n",
    "from sklearn.preprocessing import MinMaxScaler\n",
    "import warnings\n",
    "from pytorch_lightning.strategies import DDPStrategy\n",
    "import copy\n",
    "from matplotlib.colors import LinearSegmentedColormap"
   ]
  },
  {
   "cell_type": "code",
   "execution_count": 2,
   "id": "f2a57628-6d4f-47de-842f-e5d20fae90a0",
   "metadata": {
    "tags": []
   },
   "outputs": [],
   "source": [
    "class ResidualFlow(nn.Module):\n",
    "    def __init__(self, dim, hidden_dim, n_layers, input_dim=0, dropout=0, LDJ=False):\n",
    "        super(ResidualFlow, self).__init__()\n",
    "        self.dim = dim\n",
    "        self.hidden_dim = hidden_dim\n",
    "        self.n_layers = n_layers\n",
    "        self.input_dim = input_dim\n",
    "        self.LDJ = LDJ\n",
    "        self.dropout = dropout\n",
    "        \n",
    "        layers = [nn.Linear(self.dim+self.input_dim, self.hidden_dim), nn.ReLU()]\n",
    "        for _ in range(self.n_layers):\n",
    "            layers.append(nn.Linear(self.hidden_dim, self.hidden_dim))\n",
    "            layers.append(nn.ReLU())\n",
    "            layers.append(nn.Dropout(dropout))\n",
    "        layers.append(nn.Linear(self.hidden_dim, self.dim))\n",
    "        self.net = nn.Sequential(*layers)\n",
    "        self._initialize_weights()\n",
    "    \n",
    "    def forward(self, x, u=None, reverse=False):\n",
    "        def func(x_):\n",
    "            x_e = torch.cat((x_, u), dim=-1) if u is not None else x_\n",
    "            return self.net(x_e)\n",
    "        if not reverse:   \n",
    "            y = x + func(x)\n",
    "            if self.LDJ:\n",
    "                x = x.view(-1, x.shape[-1])\n",
    "                jacobian = vmap(jacrev(func))(x)\n",
    "                jacobian = jacobian.clone()  \n",
    "                jacobian.diagonal(dim1=-2, dim2=-1).add_(1.0)\n",
    "                _, logdet = torch.linalg.slogdet(jacobian)\n",
    "                logdet = logdet.sum()\n",
    "            else:\n",
    "                logdet = 0\n",
    "            return y, logdet\n",
    "        else:\n",
    "            y = x\n",
    "            epsilon = 1e-8\n",
    "            det = 1\n",
    "            max_iter = 9999\n",
    "            with torch.no_grad():\n",
    "                for _ in range(max_iter):\n",
    "                    y_temp = y\n",
    "                    y = x - func(y)\n",
    "                    det = torch.norm(y - y_temp, dim=-1).max()\n",
    "                    if det < epsilon:\n",
    "                        break  \n",
    "            return y\n",
    "    \n",
    "    def _initialize_weights(self):\n",
    "        for module in self.modules():\n",
    "            if isinstance(module, nn.Linear):  \n",
    "                nn.init.xavier_uniform_(module.weight) \n",
    "                if module.bias is not None:\n",
    "                    nn.init.zeros_(module.bias) \n",
    "\n",
    "class InvertibleNN(nn.Module):\n",
    "    def __init__(self, dim, hidden_dim, n_blocks, n_layers, input_dim=0, dropout=0, LDJ=False):\n",
    "        super(InvertibleNN, self).__init__()\n",
    "        self.dim = dim\n",
    "        self.hidden_dim = hidden_dim\n",
    "        self.n_blocks = n_blocks\n",
    "        self.n_layers = n_layers\n",
    "        self.input_dim = input_dim\n",
    "        self.blocks = nn.ModuleList([ResidualFlow(self.dim, self.hidden_dim, self.n_layers, self.input_dim, dropout, LDJ) for _ in range(self.n_blocks)])\n",
    "    \n",
    "    def forward(self, x, u=None, reverse=False):\n",
    "        if not reverse:\n",
    "            ldj_total = 0\n",
    "            for block in self.blocks:\n",
    "                x, ldj = block(x, u, reverse)\n",
    "                ldj_total += ldj\n",
    "            return x, ldj_total\n",
    "        else:\n",
    "            for block in reversed(self.blocks):\n",
    "                x = block(x, u, reverse)\n",
    "            return x\n",
    "    \n",
    "class CombinedNetwork(nn.Module):\n",
    "    def __init__(self, inn_model, input_dim, lifted_dim, Xmax, Xmin):\n",
    "        super(CombinedNetwork, self).__init__()\n",
    "        self.input_dim = input_dim\n",
    "        self.inn_model = inn_model  \n",
    "        self.Xmax = Xmax\n",
    "        self.Xmin = Xmin\n",
    "        self.dropout = nn.Dropout(p=inn_model.blocks[0].dropout)\n",
    "        self.linear = nn.Linear(input_dim, lifted_dim, bias=False)  \n",
    "        self._initialize_weights()\n",
    "    \n",
    "    def forward(self, x, u=None, reverse=False):\n",
    "        x = x.float()\n",
    "        Xmax = self.Xmax.to(x.device)\n",
    "        Xmin = self.Xmin.to(x.device)\n",
    "        if not reverse:\n",
    "            x = (x - Xmin) / (Xmax - Xmin)\n",
    "            chebyshev = torch.cos(self.linear(torch.arccos(x)))\n",
    "            x = torch.cat((x, chebyshev), dim=-1)\n",
    "            # x = self.dropout(x)\n",
    "            x, ldj = self.inn_model(x, u, reverse)\n",
    "            return x, ldj\n",
    "        else:\n",
    "            x = self.inn_model(x, u, reverse)\n",
    "            x = x[:, :self.input_dim]\n",
    "            x = (Xmax - Xmin) * x + Xmin\n",
    "            return x\n",
    "    \n",
    "    def _initialize_weights(self):\n",
    "        lambda_s = 5\n",
    "        self.linear.weight.data = torch.distributions.exponential.Exponential(lambda_s).sample(self.linear.weight.shape)\n",
    "        \n",
    "class KoopmanModule(nn.Module):\n",
    "    def __init__(self, g_model, latent_dim, K_init=None):\n",
    "        super().__init__()\n",
    "        self.g_model = g_model\n",
    "        self.latent_dim = latent_dim\n",
    "        self.K = nn.Parameter(torch.randn(latent_dim, latent_dim), requires_grad=True)\n",
    "        self.K.data.copy_(K_init)\n",
    "\n",
    "    def forward(self, x: torch.Tensor, reverse: bool = False) -> torch.Tensor:\n",
    "        return self.g_model(x, reverse=reverse)[0]"
   ]
  },
  {
   "cell_type": "code",
   "execution_count": 3,
   "id": "bede68be-e48a-4205-b695-7cc047d892cf",
   "metadata": {
    "tags": []
   },
   "outputs": [],
   "source": [
    "class TrainModel(pl.LightningModule):\n",
    "    def __init__(self, model, rank, learning_rate=1e-3, lamb=1, path=\"model_checkpoint_Van\"):\n",
    "        super(TrainModel, self).__init__()\n",
    "        self.model = model\n",
    "        self.learning_rate = learning_rate\n",
    "        self.criterion = nn.MSELoss()\n",
    "        self.best_val_loss = float('inf')  \n",
    "        self.validation_outputs = []\n",
    "        self.lamb = lamb\n",
    "        self.train_losses = []\n",
    "        self.rank = rank\n",
    "        self.path = path+'.ckpt'\n",
    "\n",
    "    def forward(self, x):\n",
    "        return self.model(x)\n",
    "\n",
    "    def training_step(self, batch, batch_idx):\n",
    "        X_batch = batch[0]\n",
    "        GY, GY_pred, ldj = dmd(self.model, X_batch, self.rank)\n",
    "\n",
    "        loss_lin = self.criterion(GY, GY_pred)\n",
    "        loss_LDJ = ldj / X_batch.numel()\n",
    "\n",
    "        loss = loss_lin - self.lamb * loss_LDJ\n",
    "        self.log('train_loss', loss, on_step=True, on_epoch=False, prog_bar=True)\n",
    "        return loss\n",
    "\n",
    "    def validation_step(self, batch, batch_idx):\n",
    "        Z_batch = batch[0]\n",
    "        Z1, Z_pred, _ = dmd(self.model, Z_batch, self.rank)\n",
    "        Z_pred = self.model(Z_pred.T, reverse=True)\n",
    "        Z1 = self.model(Z1.T, reverse=True)\n",
    "        valid_loss = self.criterion(Z_pred, Z1)\n",
    "\n",
    "        self.validation_outputs.append(valid_loss)\n",
    "        self.log('val_loss', valid_loss)\n",
    "        return valid_loss\n",
    "\n",
    "    def test_step(self, batch, batch_idx):\n",
    "        Z_batch = batch[0]\n",
    "        Z1, Z_pred, _ = dmd(self.model, Z_batch, self.rank)\n",
    "        Z_pred = self.model(Z_pred.T, reverse=True)\n",
    "        Z1 = self.model(Z1.T, reverse=True)\n",
    "        test_loss = self.criterion(Z_pred, Z1)\n",
    "\n",
    "        self.log('test_loss', test_loss)\n",
    "        return test_loss\n",
    "    \n",
    "    def on_fit_start(self):\n",
    "        if self.trainer.is_global_zero: \n",
    "            if os.path.exists(\"loss_log.txt\"):\n",
    "                os.remove(\"loss_log.txt\")\n",
    "            if os.path.exists(self.path):\n",
    "                os.remove(self.path)\n",
    "    \n",
    "    def on_train_batch_end(self, outputs, batch, batch_idx):\n",
    "        with torch.no_grad():  \n",
    "            for name, module in self.model.named_modules():  \n",
    "                if isinstance(module, nn.Linear): \n",
    "                    if name == \"linear\":  \n",
    "                        continue\n",
    "                    weight = module.weight  \n",
    "                    sigma_max = torch.norm(weight, p=2)  \n",
    "                    if sigma_max > 1:  \n",
    "                        scale = (1 - 1e-3) / sigma_max\n",
    "                        module.weight.data *= scale  \n",
    "    \n",
    "    def on_train_epoch_start(self):\n",
    "        if os.path.exists(self.path):\n",
    "            best_state_dict = torch.load(self.path)[\"state_dict\"]\n",
    "            self.load_state_dict(best_state_dict)\n",
    "    \n",
    "    def on_train_epoch_end(self):\n",
    "        if self.trainer.is_global_zero: \n",
    "            avg_train_loss = self.trainer.callback_metrics.get(\"train_loss\")\n",
    "            if avg_train_loss is not None:\n",
    "                self.train_losses.append(avg_train_loss.item())  \n",
    "                print(f\"Epoch {self.current_epoch}: Average Training Loss = {avg_train_loss.item()}\")\n",
    "\n",
    "    def on_validation_epoch_end(self):\n",
    "        avg_val_loss = torch.stack(self.validation_outputs).mean()\n",
    "        self.log('avg_val_loss', avg_val_loss)\n",
    "        self.validation_outputs.clear()\n",
    "        print(f\"Validation loss: {avg_val_loss}\")\n",
    "        with open(\"loss_log.txt\", \"a\") as f:\n",
    "            f.write(f\"{avg_val_loss.item()}\\n\")\n",
    "\n",
    "    def configure_optimizers(self):\n",
    "        optimizer = torch.optim.Adam(self.model.parameters(), lr=self.learning_rate, eps=1e-08,\n",
    "                                            weight_decay=0)\n",
    "        scheduler = torch.optim.lr_scheduler.StepLR(\n",
    "            optimizer,\n",
    "            step_size=1,\n",
    "            gamma=0.92\n",
    "        )\n",
    "\n",
    "        return {\n",
    "            \"optimizer\": optimizer,\n",
    "            \"lr_scheduler\": {\n",
    "                \"scheduler\": scheduler,\n",
    "                \"monitor\": \"val_loss\",  \n",
    "            },\n",
    "            \"gradient_clip_val\": 1.0,  \n",
    "            \"gradient_clip_algorithm\": \"norm\",\n",
    "        }"
   ]
  },
  {
   "cell_type": "code",
   "execution_count": 4,
   "id": "8996c880-1612-417a-ade9-b294f93ad045",
   "metadata": {
    "tags": []
   },
   "outputs": [],
   "source": [
    "def load_model_and_K(model_class, K_path, model_path, device=\"cpu\", **model_kwargs):\n",
    "    g_model = model_class(**model_kwargs).to(device)\n",
    "    g_model.load_state_dict(torch.load(model_path, map_location=device))\n",
    "    g_model.eval()\n",
    "\n",
    "    K = torch.load(K_path, map_location=device)\n",
    "\n",
    "    print(f\"Loaded g_model from {model_path}\")\n",
    "    print(f\"Loaded Koopman operator K from {K_path}\")\n",
    "\n",
    "    return g_model, K"
   ]
  },
  {
   "cell_type": "code",
   "execution_count": 5,
   "id": "b602e280-468b-4cf2-a863-55ec84de6de8",
   "metadata": {
    "tags": []
   },
   "outputs": [],
   "source": [
    "dim = 50  \n",
    "hidden_dim = 100 \n",
    "input_dim = 0\n",
    "n_blocks = 3  \n",
    "n_layers = 1\n",
    "n_feature = 0\n",
    "rank = 10\n",
    "batch_size = 99999\n",
    "n_train = 2000\n",
    "n_valid = 200\n",
    "n_test = 200\n",
    "dropout = 0.5\n",
    "num_epochs = 1000 \n",
    "lamb = 0\n",
    "learning_rate = 0 \n",
    "device = torch.device(\"cuda\" if torch.cuda.is_available() else \"cpu\")"
   ]
  },
  {
   "cell_type": "code",
   "execution_count": 6,
   "id": "6874831a-16e4-4744-8cc9-1cf2c819a392",
   "metadata": {
    "tags": []
   },
   "outputs": [],
   "source": [
    "X_train = pd.read_csv('SG_train.csv', header=None).values\n",
    "X_valid = pd.read_csv('SG_valid.csv', header=None).values\n",
    "X_test = pd.read_csv('SG_test.csv', header=None).values\n",
    "\n",
    "length = X_train.shape[1] // n_train\n",
    "H_train = []\n",
    "for i in range(n_train):\n",
    "    H_train.append(X_train[:, i*length:(i+1)*length])\n",
    "H_train = np.stack([H_train[idx].T for idx in range(n_train)], axis=0)\n",
    "H_valid = []\n",
    "for i in range(n_valid):\n",
    "    H_valid.append(X_valid[:, i*length:(i+1)*length])\n",
    "H_valid = np.stack([H_valid[idx].T for idx in range(n_valid)], axis=0)\n",
    "train_dataset = TensorDataset(torch.tensor(H_train))\n",
    "train_loader = DataLoader(train_dataset, batch_size=batch_size, shuffle=True, num_workers=8, pin_memory=True)\n",
    "valid_dataset = TensorDataset(torch.tensor(H_valid))\n",
    "valid_loader = DataLoader(valid_dataset, batch_size=batch_size, shuffle=True, num_workers=8, pin_memory=True)\n",
    "\n",
    "X_result = np.concatenate([X_train, X_test, X_valid], axis=-1)\n",
    "Xmax = torch.tensor(np.max(X_result, axis=-1), dtype=torch.float)\n",
    "Xmin = torch.tensor(np.min(X_result, axis=-1), dtype=torch.float)"
   ]
  },
  {
   "cell_type": "code",
   "execution_count": 7,
   "id": "8df73c0b-41b8-45f9-bfc9-e451874d9440",
   "metadata": {
    "tags": []
   },
   "outputs": [
    {
     "name": "stderr",
     "output_type": "stream",
     "text": [
      "/opt/conda/lib/python3.11/site-packages/torch/nn/init.py:453: UserWarning: Initializing zero-element tensors is a no-op\n",
      "  warnings.warn(\"Initializing zero-element tensors is a no-op\")\n"
     ]
    },
    {
     "name": "stdout",
     "output_type": "stream",
     "text": [
      "Loaded g_model from SG.pth\n",
      "Loaded Koopman operator K from SG_K.pt\n"
     ]
    },
    {
     "name": "stderr",
     "output_type": "stream",
     "text": [
      "/tmp/ipykernel_2848/855383640.py:4: FutureWarning: You are using `torch.load` with `weights_only=False` (the current default value), which uses the default pickle module implicitly. It is possible to construct malicious pickle data which will execute arbitrary code during unpickling (See https://github.com/pytorch/pytorch/blob/main/SECURITY.md#untrusted-models for more details). In a future release, the default value for `weights_only` will be flipped to `True`. This limits the functions that could be executed during unpickling. Arbitrary objects will no longer be allowed to be loaded via this mode unless they are explicitly allowlisted by the user via `torch.serialization.add_safe_globals`. We recommend you start setting `weights_only=True` for any use case where you don't have full control of the loaded file. Please open an issue on GitHub for any issues related to this experimental feature.\n",
      "  g_model.load_state_dict(torch.load(model_path, map_location=device))\n",
      "/tmp/ipykernel_2848/855383640.py:8: FutureWarning: You are using `torch.load` with `weights_only=False` (the current default value), which uses the default pickle module implicitly. It is possible to construct malicious pickle data which will execute arbitrary code during unpickling (See https://github.com/pytorch/pytorch/blob/main/SECURITY.md#untrusted-models for more details). In a future release, the default value for `weights_only` will be flipped to `True`. This limits the functions that could be executed during unpickling. Arbitrary objects will no longer be allowed to be loaded via this mode unless they are explicitly allowlisted by the user via `torch.serialization.add_safe_globals`. We recommend you start setting `weights_only=True` for any use case where you don't have full control of the loaded file. Please open an issue on GitHub for any issues related to this experimental feature.\n",
      "  K = torch.load(K_path, map_location=device)\n"
     ]
    }
   ],
   "source": [
    "inn_model = InvertibleNN(\n",
    "    dim=dim + n_feature,\n",
    "    hidden_dim=hidden_dim,\n",
    "    n_blocks=n_blocks,\n",
    "    n_layers=n_layers,\n",
    "    input_dim=input_dim,\n",
    "    dropout=dropout,\n",
    "    LDJ=lamb > 0\n",
    ")\n",
    "\n",
    "model = CombinedNetwork(\n",
    "    inn_model=inn_model,\n",
    "    input_dim=dim,\n",
    "    lifted_dim=n_feature,\n",
    "    Xmax=Xmax,\n",
    "    Xmin=Xmin\n",
    ")\n",
    "\n",
    "g_model, K = load_model_and_K(\n",
    "    model_class=CombinedNetwork,\n",
    "    K_path=\"SG_K.pt\",\n",
    "    model_path=\"SG.pth\",\n",
    "    device=\"cuda\" if torch.cuda.is_available() else \"cpu\",\n",
    "    inn_model=inn_model,\n",
    "    input_dim=dim,\n",
    "    lifted_dim=n_feature,\n",
    "    Xmax=Xmax,\n",
    "    Xmin=Xmin\n",
    ")"
   ]
  },
  {
   "cell_type": "code",
   "execution_count": 8,
   "id": "918be726-566f-455d-8290-8ae126bc98b9",
   "metadata": {
    "tags": []
   },
   "outputs": [],
   "source": [
    "device = next(g_model.parameters()).device\n",
    "GX = g_model(torch.tensor(H_train[:, :-1, :], dtype=torch.float32).to(device))[0]\n",
    "GY = g_model(torch.tensor(H_train[:, 1:, :], dtype=torch.float32).to(device))[0]\n",
    "X_all = GX.reshape(-1, dim+n_feature) \n",
    "Y_all = GY.reshape(-1, dim+n_feature)  "
   ]
  },
  {
   "cell_type": "code",
   "execution_count": 9,
   "id": "952d57fa-8eb6-439b-9db1-b26ffd677781",
   "metadata": {
    "tags": []
   },
   "outputs": [
    {
     "data": {
      "text/plain": [
       "tensor(0.0001)"
      ]
     },
     "execution_count": 9,
     "metadata": {},
     "output_type": "execute_result"
    }
   ],
   "source": [
    "GY_pred = GX @ K\n",
    "Y_pred = g_model(GY_pred.reshape(-1, GY_pred.shape[-1]), reverse=True).cpu()\n",
    "Y = torch.tensor(H_train[:, 1:, :].reshape(-1, H_train.shape[-1]), dtype=torch.float32).to(device).cpu()\n",
    "nn.MSELoss()(Y, Y_pred)"
   ]
  },
  {
   "cell_type": "code",
   "execution_count": 10,
   "id": "1c5936f1-4ad8-4633-92ba-b13fcbe3c799",
   "metadata": {
    "tags": []
   },
   "outputs": [],
   "source": [
    "eigvals, eigvecs = torch.linalg.eig(K)\n",
    "abs_eigvals = eigvals.abs()\n",
    "sorted_indices = torch.argsort(abs_eigvals, descending=True)\n",
    "eigvals_sorted = eigvals[sorted_indices]  \n",
    "eigvecs_sorted = eigvecs[:, sorted_indices] "
   ]
  },
  {
   "cell_type": "code",
   "execution_count": 11,
   "id": "8e26f7ad-9b4f-4acf-b8f8-4929406ee09d",
   "metadata": {
    "tags": []
   },
   "outputs": [
    {
     "data": {
      "text/plain": [
       "tensor([ 1.0003e+00+0.0000e+00j,  9.1517e-01+0.0000e+00j,\n",
       "         1.3574e-01+0.0000e+00j, -1.1874e-01+0.0000e+00j,\n",
       "         4.0122e-02+0.0000e+00j,  3.5158e-02+1.6073e-03j,\n",
       "         3.5158e-02-1.6073e-03j,  3.2857e-02+1.2847e-03j,\n",
       "         3.2857e-02-1.2847e-03j,  3.2796e-02+3.8486e-04j,\n",
       "         3.2796e-02-3.8486e-04j,  3.1858e-02+7.6111e-05j,\n",
       "         3.1858e-02-7.6111e-05j,  3.1660e-02+1.8960e-03j,\n",
       "         3.1660e-02-1.8960e-03j,  3.1564e-02+2.6897e-04j,\n",
       "         3.1564e-02-2.6897e-04j,  3.0596e-02+0.0000e+00j,\n",
       "         2.8938e-02+6.6792e-03j,  2.8938e-02-6.6792e-03j,\n",
       "         2.9453e-02+0.0000e+00j,  2.8778e-02+0.0000e+00j,\n",
       "         1.3155e-02+1.9832e-02j,  1.3155e-02-1.9832e-02j,\n",
       "         2.0413e-02+0.0000e+00j, -1.5303e-02+0.0000e+00j,\n",
       "         8.1932e-03+3.5239e-03j,  8.1932e-03-3.5239e-03j,\n",
       "        -2.5997e-03+7.4412e-03j, -2.5997e-03-7.4412e-03j,\n",
       "        -1.7657e-03+2.9315e-03j, -1.7657e-03-2.9315e-03j,\n",
       "         1.6613e-03+0.0000e+00j, -1.5310e-03+0.0000e+00j,\n",
       "         1.3042e-03+1.7101e-04j,  1.3042e-03-1.7101e-04j,\n",
       "         1.0733e-03+0.0000e+00j,  7.6987e-05+8.5153e-04j,\n",
       "         7.6987e-05-8.5153e-04j, -7.1784e-04+1.6222e-04j,\n",
       "        -7.1784e-04-1.6222e-04j, -6.3592e-04+0.0000e+00j,\n",
       "         5.3119e-04+0.0000e+00j,  4.5849e-04+2.2569e-04j,\n",
       "         4.5849e-04-2.2569e-04j, -3.5615e-04+2.6051e-04j,\n",
       "        -3.5615e-04-2.6051e-04j,  1.0325e-04+3.5844e-04j,\n",
       "         1.0325e-04-3.5844e-04j,  9.0968e-05+0.0000e+00j], device='cuda:0')"
      ]
     },
     "execution_count": 11,
     "metadata": {},
     "output_type": "execute_result"
    }
   ],
   "source": [
    "eigvals_sorted"
   ]
  },
  {
   "cell_type": "code",
   "execution_count": 29,
   "id": "d66af82c-f2f9-4f28-8eeb-60a9694d7952",
   "metadata": {
    "tags": []
   },
   "outputs": [],
   "source": [
    "GX_all = g_model(torch.tensor(H_train[18, :, :], dtype=torch.float32).to(device))[0].reshape(-1, dim+n_feature)\n",
    "X_all = X_train[:, 18*50:19*50].T\n",
    "phi = GX_all.to(torch.complex64) @ eigvecs_sorted\n",
    "magnitude = torch.abs(phi).cpu().detach().numpy()\n",
    "phase = torch.angle(phi).cpu().detach().numpy()"
   ]
  },
  {
   "cell_type": "code",
   "execution_count": 40,
   "id": "0598d756-8298-4591-a8f4-ba62c3767f55",
   "metadata": {
    "tags": []
   },
   "outputs": [
    {
     "data": {
      "image/png": "[encoded data removed]",
      "text/plain": [
       "<Figure size 400x400 with 2 Axes>"
      ]
     },
     "metadata": {},
     "output_type": "display_data"
    }
   ],
   "source": [
    "from matplotlib.font_manager import FontProperties\n",
    "\n",
    "arial_font = FontProperties(fname=\"/root/.fonts/arial.ttf\", size=15)\n",
    "\n",
    "x = np.linspace(1, 50, 50)   \n",
    "t = np.linspace(0, 0.5, 50)\n",
    "\n",
    "plt.figure(figsize=(4, 4))\n",
    "\n",
    "im = plt.imshow(\n",
    "    magnitude.T,\n",
    "    extent=[t.min(), t.max(), x.min(), x.max()],\n",
    "    aspect='auto',\n",
    "    origin='lower',\n",
    "    cmap='viridis'  \n",
    ")\n",
    "\n",
    "plt.title(\"$\\\\vert\\\\varphi\\\\vert$\", fontsize=15, fontproperties=arial_font, pad=10)\n",
    "\n",
    "plt.xlabel(\"$t$\", fontsize=15, fontproperties=arial_font)\n",
    "plt.ylabel(\"Index of eigenfunctions\", fontsize=15, fontproperties=arial_font)\n",
    "plt.xticks(fontsize=8, fontproperties=arial_font)\n",
    "plt.yticks([1, 10, 20, 30, 40, 50], fontsize=8, fontproperties=arial_font)\n",
    "plt.gca().invert_yaxis()\n",
    "\n",
    "cbar = plt.colorbar(im)\n",
    "cbar.ax.tick_params(labelsize=8)\n",
    "for l in cbar.ax.get_yticklabels():\n",
    "    l.set_fontproperties(arial_font)\n",
    "\n",
    "plt.tight_layout()\n",
    "plt.savefig(\"SG1.svg\", format='svg', bbox_inches='tight')\n",
    "plt.show()"
   ]
  },
  {
   "cell_type": "code",
   "execution_count": 41,
   "id": "973fd5e9-0602-404b-9176-1088c43ec213",
   "metadata": {
    "tags": []
   },
   "outputs": [
    {
     "data": {
      "image/png": "[encoded data removed]",
      "text/plain": [
       "<Figure size 400x400 with 2 Axes>"
      ]
     },
     "metadata": {},
     "output_type": "display_data"
    }
   ],
   "source": [
    "from matplotlib.font_manager import FontProperties\n",
    "\n",
    "arial_font = FontProperties(fname=\"/root/.fonts/arial.ttf\", size=15)\n",
    "\n",
    "x = np.linspace(1, 50, 50)     \n",
    "t = np.linspace(0, 0.5, 50)\n",
    "\n",
    "plt.figure(figsize=(4, 4))\n",
    "\n",
    "im = plt.imshow(\n",
    "    phase.T,\n",
    "    extent=[t.min(), t.max(), x.min(), x.max()],\n",
    "    aspect='auto',\n",
    "    origin='lower',\n",
    "    cmap='viridis'  \n",
    ")\n",
    "\n",
    "plt.title(\"$\\\\angle\\\\varphi$\", fontsize=15, fontproperties=arial_font, pad=10)\n",
    "\n",
    "plt.xlabel(\"$t$\", fontsize=15, fontproperties=arial_font)\n",
    "plt.ylabel(\"Index of eigenfunctions\", fontsize=15, fontproperties=arial_font)\n",
    "plt.xticks(fontsize=8, fontproperties=arial_font)\n",
    "plt.yticks([1, 10, 20, 30, 40, 50], fontsize=8, fontproperties=arial_font)\n",
    "plt.gca().invert_yaxis()\n",
    "\n",
    "cbar = plt.colorbar(im)\n",
    "cbar.ax.tick_params(labelsize=8)\n",
    "for l in cbar.ax.get_yticklabels():\n",
    "    l.set_fontproperties(arial_font)\n",
    "\n",
    "plt.tight_layout()\n",
    "plt.savefig(\"SG2.svg\", format='svg', bbox_inches='tight')\n",
    "plt.show()"
   ]
  },
  {
   "cell_type": "code",
   "execution_count": 42,
   "id": "e8ccd01b-418d-4e77-87f3-742438d15f86",
   "metadata": {
    "tags": []
   },
   "outputs": [
    {
     "data": {
      "image/png": "[encoded data removed]",
      "text/plain": [
       "<Figure size 400x400 with 1 Axes>"
      ]
     },
     "metadata": {},
     "output_type": "display_data"
    }
   ],
   "source": [
    "eigs = eigvals_sorted.cpu().detach().numpy()\n",
    "\n",
    "arial_font = FontProperties(fname=\"/root/.fonts/arial.ttf\", size=15)\n",
    "\n",
    "theta = np.linspace(0, 2 * np.pi, 500)\n",
    "unit_circle_x = np.cos(theta)\n",
    "unit_circle_y = np.sin(theta)\n",
    "\n",
    "modulus = np.abs(eigs)\n",
    "norm_modulus = (modulus - modulus.min()) / (modulus.max() - modulus.min())\n",
    "sizes = 20 + 50 * norm_modulus\n",
    "\n",
    "base_cmap = plt.cm.inferno\n",
    "det = 0.2\n",
    "light_cmap = LinearSegmentedColormap.from_list(\n",
    "    \"inferno\", base_cmap(np.linspace(1.0 - det, 0.8 - det, 256))\n",
    ")\n",
    "\n",
    "face_colors = light_cmap(norm_modulus)\n",
    "\n",
    "def mix_with_white(rgb_array, ratio=0.5):\n",
    "    white = np.zeros_like(rgb_array)\n",
    "    return rgb_array * (1 - ratio) + white * ratio\n",
    "\n",
    "edge_colors = mix_with_white(face_colors, ratio=0.5)\n",
    "\n",
    "plt.figure(figsize=(4, 4))\n",
    "plt.plot(unit_circle_x, unit_circle_y, linestyle='--', color=\"#6699CC\", zorder=1, linewidth=3, label='Unit cycle')\n",
    "\n",
    "scatter = plt.scatter(\n",
    "    eigs.real,\n",
    "    eigs.imag,\n",
    "    c=face_colors,          \n",
    "    s=sizes,\n",
    "    edgecolors=edge_colors, \n",
    "    linewidth=0.8,\n",
    "    zorder=2,\n",
    "    label='Eigenvalues'\n",
    ")\n",
    "\n",
    "\n",
    "plt.legend(loc='lower center',\n",
    "    bbox_to_anchor=(0.5, 1.02),borderaxespad=0.5, columnspacing=0.5,\n",
    "    handletextpad=0.5,\n",
    "    handlelength=1,\n",
    "    ncol=3,frameon=False, prop=arial_font)\n",
    "plt.grid(False)\n",
    "plt.title(\"\")\n",
    "plt.xlabel(\"$x_1$\", fontsize=15, fontproperties=arial_font)\n",
    "plt.ylabel(\"$x_2$\", fontsize=15, fontproperties=arial_font)\n",
    "plt.xticks(fontsize=8, fontproperties=arial_font)\n",
    "plt.yticks([-1.0, -0.5, 0.0, 0.5, 1.0], fontsize=8, fontproperties=arial_font)\n",
    "\n",
    "plt.tight_layout()\n",
    "plt.savefig(\"SG3.svg\", format='svg', bbox_inches='tight')\n",
    "plt.show()"
   ]
  }
 ],
 "metadata": {
  "kernelspec": {
   "display_name": "Python 3 (ipykernel)",
   "language": "python",
   "name": "python3"
  },
  "language_info": {
   "codemirror_mode": {
    "name": "ipython",
    "version": 3
   },
   "file_extension": ".py",
   "mimetype": "text/x-python",
   "name": "python",
   "nbconvert_exporter": "python",
   "pygments_lexer": "ipython3",
   "version": "3.11.9"
  }
 },
 "nbformat": 4,
 "nbformat_minor": 5
}
