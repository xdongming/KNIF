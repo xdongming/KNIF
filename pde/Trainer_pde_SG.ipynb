{
 "cells": [
  {
   "cell_type": "code",
   "execution_count": 1,
   "id": "050e659e-20f4-4b07-b724-21cb2ef26b76",
   "metadata": {
    "tags": []
   },
   "outputs": [],
   "source": [
    "import numpy as np\n",
    "import pandas as pd\n",
    "from matplotlib import pyplot as plt\n",
    "import torch\n",
    "import torch.nn as nn\n",
    "import torch.optim as optim\n",
    "from torch.utils.data import DataLoader, TensorDataset\n",
    "import torch.nn.functional as F\n",
    "from torch.func import vmap, jacrev\n",
    "from tqdm import tqdm\n",
    "import os\n",
    "import random\n",
    "import pytorch_lightning as pl\n",
    "from pytorch_lightning.callbacks import ModelCheckpoint\n",
    "from pytorch_lightning.callbacks import Callback\n",
    "import math\n",
    "from pydmd import DMD\n",
    "from sklearn.preprocessing import MinMaxScaler\n",
    "import warnings"
   ]
  },
  {
   "cell_type": "code",
   "execution_count": 2,
   "id": "f2a57628-6d4f-47de-842f-e5d20fae90a0",
   "metadata": {
    "tags": []
   },
   "outputs": [],
   "source": [
    "class ResidualFlow(nn.Module):\n",
    "    def __init__(self, dim, hidden_dim, n_layers, input_dim=0, dropout=0, LDJ=False):\n",
    "        super(ResidualFlow, self).__init__()\n",
    "        self.dim = dim\n",
    "        self.hidden_dim = hidden_dim\n",
    "        self.n_layers = n_layers\n",
    "        self.input_dim = input_dim\n",
    "        self.LDJ = LDJ\n",
    "        self.dropout = dropout\n",
    "        \n",
    "        layers = [nn.Linear(self.dim+self.input_dim, self.hidden_dim), nn.ReLU()]\n",
    "        for _ in range(self.n_layers):\n",
    "            layers.append(nn.Linear(self.hidden_dim, self.hidden_dim))\n",
    "            layers.append(nn.ReLU())\n",
    "            layers.append(nn.Dropout(dropout))\n",
    "        layers.append(nn.Linear(self.hidden_dim, self.dim))\n",
    "        self.net = nn.Sequential(*layers)\n",
    "        self._initialize_weights()\n",
    "    \n",
    "    def forward(self, x, u=None, reverse=False):\n",
    "        def func(x_):\n",
    "            x_e = torch.cat((x_, u), dim=-1) if u is not None else x_\n",
    "            return self.net(x_e)\n",
    "        if not reverse:   \n",
    "            y = x + func(x)\n",
    "            if self.LDJ:\n",
    "                x = x.view(-1, x.shape[-1])\n",
    "                jacobian = vmap(jacrev(func))(x)\n",
    "                jacobian = jacobian.clone()  \n",
    "                jacobian.diagonal(dim1=-2, dim2=-1).add_(1.0)\n",
    "                _, logdet = torch.linalg.slogdet(jacobian)\n",
    "                logdet = logdet.sum()\n",
    "            else:\n",
    "                logdet = 0\n",
    "            return y, logdet\n",
    "        else:\n",
    "            y = x\n",
    "            epsilon = 1e-4\n",
    "            det = 1\n",
    "            max_iter = 100\n",
    "            with torch.no_grad():\n",
    "                for _ in range(max_iter):\n",
    "                    y_temp = y\n",
    "                    y = x - func(y)\n",
    "                    det = torch.norm(y - y_temp, dim=-1).max()\n",
    "                    if det < epsilon:\n",
    "                        break  \n",
    "             \n",
    "            return y\n",
    "    \n",
    "    def _initialize_weights(self):\n",
    "        for module in self.modules():\n",
    "            if isinstance(module, nn.Linear): \n",
    "                nn.init.xavier_uniform_(module.weight) \n",
    "                if module.bias is not None:\n",
    "                    nn.init.zeros_(module.bias) \n",
    "\n",
    "class InvertibleNN(nn.Module):\n",
    "    def __init__(self, dim, hidden_dim, n_blocks, n_layers, input_dim=0, dropout=0, LDJ=False):\n",
    "        super(InvertibleNN, self).__init__()\n",
    "        self.dim = dim\n",
    "        self.hidden_dim = hidden_dim\n",
    "        self.n_blocks = n_blocks\n",
    "        self.n_layers = n_layers\n",
    "        self.input_dim = input_dim\n",
    "        self.blocks = nn.ModuleList([ResidualFlow(self.dim, self.hidden_dim, self.n_layers, self.input_dim, dropout, LDJ) for _ in range(self.n_blocks)])\n",
    "    \n",
    "    def forward(self, x, u=None, reverse=False):\n",
    "        if not reverse:\n",
    "            ldj_total = 0\n",
    "            for block in self.blocks:\n",
    "                x, ldj = block(x, u, reverse)\n",
    "                ldj_total += ldj\n",
    "            return x, ldj_total\n",
    "        else:\n",
    "            for block in reversed(self.blocks):\n",
    "                x = block(x, u, reverse)\n",
    "            return x\n",
    "    \n",
    "class CombinedNetwork(nn.Module):\n",
    "    def __init__(self, inn_model, input_dim, lifted_dim, Xmax, Xmin):\n",
    "        super(CombinedNetwork, self).__init__()\n",
    "        self.input_dim = input_dim\n",
    "        self.inn_model = inn_model  \n",
    "        self.Xmax = Xmax\n",
    "        self.Xmin = Xmin\n",
    "        self.dropout = nn.Dropout(p=inn_model.blocks[0].dropout)\n",
    "        self.linear = nn.Linear(input_dim, lifted_dim, bias=False)  \n",
    "        self._initialize_weights()\n",
    "    \n",
    "    def forward(self, x, u=None, reverse=False):\n",
    "        x = x.float()\n",
    "        Xmax = self.Xmax.to(x.device)\n",
    "        Xmin = self.Xmin.to(x.device)\n",
    "        if not reverse:\n",
    "            x = (x - Xmin) / (Xmax - Xmin)\n",
    "            chebyshev = torch.cos(self.linear(torch.arccos(x)))\n",
    "            x = torch.cat((x, chebyshev), dim=-1)\n",
    "            # x = self.dropout(x)\n",
    "            x, ldj = self.inn_model(x, u, reverse)\n",
    "            return x, ldj\n",
    "        else:\n",
    "            x = self.inn_model(x, u, reverse)\n",
    "            x = x[:, :self.input_dim]\n",
    "            x = (Xmax - Xmin) * x + Xmin\n",
    "            return x\n",
    "    \n",
    "    def _initialize_weights(self):\n",
    "        lambda_s = 5\n",
    "        self.linear.weight.data = torch.distributions.exponential.Exponential(lambda_s).sample(self.linear.weight.shape)"
   ]
  },
  {
   "cell_type": "code",
   "execution_count": 3,
   "id": "8996c880-1612-417a-ade9-b294f93ad045",
   "metadata": {
    "tags": []
   },
   "outputs": [],
   "source": [
    "def dmd(model, X, rank):\n",
    "    GX_pred_list = []\n",
    "    GX_list = []\n",
    "    GX, ldj = model(X)\n",
    "    for i in range(X.shape[0]):\n",
    "        GX_temp = GX[i, :, :].T\n",
    "        dmd = DMD(svd_rank=rank, exact=True, sorted_eigs='abs')\n",
    "        dmd.fit(GX_temp.cpu().detach().numpy())\n",
    "        GX_pred = dmd.reconstructed_data.real\n",
    "        GX_pred = np.array(GX_pred, dtype=np.float32)\n",
    "        GX_pred = torch.from_numpy(GX_pred).cuda()\n",
    "        GX_pred_list.append(GX_pred)\n",
    "        GX_list.append(GX_temp)\n",
    "    GX_pred = torch.cat(GX_pred_list, dim=-1)\n",
    "    GX = torch.cat(GX_list, dim=-1)\n",
    "\n",
    "    return GX, GX_pred, ldj"
   ]
  },
  {
   "cell_type": "code",
   "execution_count": 4,
   "id": "bede68be-e48a-4205-b695-7cc047d892cf",
   "metadata": {
    "tags": []
   },
   "outputs": [],
   "source": [
    "class TrainModel(pl.LightningModule):\n",
    "    def __init__(self, model, rank, learning_rate=1e-3, lamb=1, path=\"model_checkpoint_Van\"):\n",
    "        super(TrainModel, self).__init__()\n",
    "        self.model = model\n",
    "        self.learning_rate = learning_rate\n",
    "        self.criterion = nn.MSELoss()\n",
    "        self.best_val_loss = float('inf')  \n",
    "        self.validation_outputs = []\n",
    "        self.lamb = lamb\n",
    "        self.train_losses = []\n",
    "        self.rank = rank\n",
    "        self.path = path+'.ckpt'\n",
    "\n",
    "    def forward(self, x):\n",
    "        return self.model(x)\n",
    "\n",
    "    def training_step(self, batch, batch_idx):\n",
    "        X_batch = batch[0]\n",
    "        GY, GY_pred, ldj = dmd(self.model, X_batch, self.rank)\n",
    "\n",
    "        loss_lin = self.criterion(GY, GY_pred)\n",
    "        loss_LDJ = ldj / X_batch.numel()\n",
    "\n",
    "        loss = loss_lin - self.lamb * loss_LDJ\n",
    "        self.log('train_loss', loss, on_step=True, on_epoch=False, prog_bar=True)\n",
    "        return loss\n",
    "\n",
    "    def validation_step(self, batch, batch_idx):\n",
    "        Z_batch = batch[0]\n",
    "        Z1, Z_pred, _ = dmd(self.model, Z_batch, self.rank)\n",
    "        Z_pred = self.model(Z_pred.T, reverse=True)\n",
    "        Z1 = self.model(Z1.T, reverse=True)\n",
    "        valid_loss = self.criterion(Z_pred, Z1)\n",
    "\n",
    "        self.validation_outputs.append(valid_loss)\n",
    "        self.log('val_loss', valid_loss)\n",
    "        return valid_loss\n",
    "\n",
    "    def test_step(self, batch, batch_idx):\n",
    "        Z_batch = batch[0]\n",
    "        Z1, Z_pred, _ = dmd(self.model, Z_batch, self.rank)\n",
    "        Z_pred = self.model(Z_pred.T, reverse=True)\n",
    "        Z1 = self.model(Z1.T, reverse=True)\n",
    "        test_loss = self.criterion(Z_pred, Z1)\n",
    "\n",
    "        self.log('test_loss', test_loss)\n",
    "        return test_loss\n",
    "    \n",
    "    def on_fit_start(self):\n",
    "        if self.trainer.is_global_zero: \n",
    "            if os.path.exists(\"loss_log.txt\"):\n",
    "                os.remove(\"loss_log.txt\")\n",
    "            if os.path.exists(self.path):\n",
    "                os.remove(self.path)\n",
    "    \n",
    "    def on_train_batch_end(self, outputs, batch, batch_idx):\n",
    "        with torch.no_grad():  \n",
    "            for name, module in self.model.named_modules():  \n",
    "                if isinstance(module, nn.Linear): \n",
    "                    if name == \"linear\":  \n",
    "                        continue\n",
    "                    weight = module.weight  \n",
    "                    sigma_max = torch.norm(weight, p=2)  \n",
    "                    if sigma_max > 1:  \n",
    "                        scale = (1 - 1e-3) / sigma_max\n",
    "                        module.weight.data *= scale  \n",
    "    \n",
    "    def on_train_epoch_start(self):\n",
    "        if os.path.exists(self.path):\n",
    "            best_state_dict = torch.load(self.path)[\"state_dict\"]\n",
    "            self.load_state_dict(best_state_dict)\n",
    "    \n",
    "    def on_train_epoch_end(self):\n",
    "        if self.trainer.is_global_zero:  \n",
    "            avg_train_loss = self.trainer.callback_metrics.get(\"train_loss\")\n",
    "            if avg_train_loss is not None:\n",
    "                self.train_losses.append(avg_train_loss.item()) \n",
    "                print(f\"Epoch {self.current_epoch}: Average Training Loss = {avg_train_loss.item()}\")\n",
    "\n",
    "    def on_validation_epoch_end(self):\n",
    "        avg_val_loss = torch.stack(self.validation_outputs).mean()\n",
    "        self.log('avg_val_loss', avg_val_loss)\n",
    "        self.validation_outputs.clear()\n",
    "        print(f\"Validation loss: {avg_val_loss}\")\n",
    "        with open(\"loss_log.txt\", \"a\") as f:\n",
    "            f.write(f\"{avg_val_loss.item()}\\n\")\n",
    "\n",
    "    def configure_optimizers(self):\n",
    "        optimizer = torch.optim.Adam(self.model.parameters(), lr=self.learning_rate, eps=1e-08,\n",
    "                                            weight_decay=0)\n",
    "        scheduler = torch.optim.lr_scheduler.StepLR(\n",
    "            optimizer,\n",
    "            step_size=1,\n",
    "            gamma=0.92\n",
    "        )\n",
    "\n",
    "        return {\n",
    "            \"optimizer\": optimizer,\n",
    "            \"lr_scheduler\": {\n",
    "                \"scheduler\": scheduler,\n",
    "                \"monitor\": \"val_loss\",  \n",
    "            },\n",
    "            \"gradient_clip_val\": 1.0,  \n",
    "            \"gradient_clip_algorithm\": \"norm\",\n",
    "        }"
   ]
  },
  {
   "cell_type": "code",
   "execution_count": 5,
   "id": "b602e280-468b-4cf2-a863-55ec84de6de8",
   "metadata": {
    "tags": []
   },
   "outputs": [],
   "source": [
    "dim = 50  \n",
    "hidden_dim = 100\n",
    "input_dim = 0\n",
    "n_blocks = 3  \n",
    "n_layers = 1\n",
    "n_feature = 0\n",
    "rank = 10\n",
    "batch_size = 128\n",
    "n_train = 2000\n",
    "n_valid = 200\n",
    "n_test = 200\n",
    "dropout = 0.8\n",
    "num_epochs = 100 \n",
    "lamb = 0\n",
    "learning_rate = 1e-3 \n",
    "device = torch.device(\"cuda\" if torch.cuda.is_available() else \"cpu\")"
   ]
  },
  {
   "cell_type": "code",
   "execution_count": 7,
   "id": "6874831a-16e4-4744-8cc9-1cf2c819a392",
   "metadata": {
    "tags": []
   },
   "outputs": [],
   "source": [
    "X_train = pd.read_csv('SG_train.csv', header=None).values\n",
    "X_valid = pd.read_csv('SG_valid.csv', header=None).values\n",
    "X_test = pd.read_csv('SG_test.csv', header=None).values\n",
    "\n",
    "length = X_train.shape[1] // n_train\n",
    "H_train = []\n",
    "for i in range(n_train):\n",
    "    H_train.append(X_train[:, i*length:(i+1)*length])\n",
    "H_train = np.stack([H_train[idx].T for idx in range(n_train)], axis=0)\n",
    "H_valid = []\n",
    "for i in range(n_valid):\n",
    "    H_valid.append(X_valid[:, i*length:(i+1)*length])\n",
    "H_valid = np.stack([H_valid[idx].T for idx in range(n_valid)], axis=0)\n",
    "train_dataset = TensorDataset(torch.tensor(H_train))\n",
    "train_loader = DataLoader(train_dataset, batch_size=batch_size, shuffle=True, num_workers=8, pin_memory=True)\n",
    "valid_dataset = TensorDataset(torch.tensor(H_valid))\n",
    "valid_loader = DataLoader(valid_dataset, batch_size=batch_size, shuffle=True, num_workers=8, pin_memory=True)\n",
    "\n",
    "X_result = np.concatenate([X_train, X_test, X_valid], axis=-1)\n",
    "Xmax = torch.tensor(np.max(X_result, axis=-1), dtype=torch.float)\n",
    "Xmin = torch.tensor(np.min(X_result, axis=-1), dtype=torch.float)"
   ]
  },
  {
   "cell_type": "code",
   "execution_count": null,
   "id": "18639093-8bd2-44b5-82b7-ad2fabbe46d5",
   "metadata": {
    "tags": []
   },
   "outputs": [],
   "source": [
    "warnings.filterwarnings(\"ignore\")\n",
    "path = \"model_checkpoint_SG\"\n",
    "checkpoint_callback = ModelCheckpoint(\n",
    "    monitor=\"avg_val_loss\", \n",
    "    dirpath=\"./\",  \n",
    "    filename=path,\n",
    "    save_top_k=1,  \n",
    "    mode=\"min\",   \n",
    ")\n",
    "inn_model = InvertibleNN(dim=dim+n_feature, hidden_dim=hidden_dim, n_blocks=n_blocks, n_layers=n_layers, input_dim=input_dim, dropout=dropout, LDJ=lamb>0)\n",
    "model = CombinedNetwork(inn_model=inn_model, input_dim=dim, lifted_dim=n_feature, Xmax=Xmax, Xmin=Xmin)\n",
    "lightning_model = TrainModel(model=model, rank=rank, learning_rate=learning_rate, lamb=lamb, path=path)\n",
    "trainer = pl.Trainer(accelerator=\"gpu\", devices=2, strategy=\"ddp_notebook\", max_epochs=num_epochs, callbacks=[checkpoint_callback])\n",
    "\n",
    "trainer.fit(lightning_model, train_loader, valid_loader)"
   ]
  },
  {
   "cell_type": "code",
   "execution_count": 8,
   "id": "8abde0b2-c523-4bad-830f-ae0a236d0f44",
   "metadata": {
    "tags": []
   },
   "outputs": [
    {
     "name": "stderr",
     "output_type": "stream",
     "text": [
      "/opt/conda/lib/python3.11/site-packages/torch/nn/init.py:453: UserWarning: Initializing zero-element tensors is a no-op\n",
      "  warnings.warn(\"Initializing zero-element tensors is a no-op\")\n",
      "GPU available: True (cuda), used: True\n",
      "TPU available: False, using: 0 TPU cores\n",
      "HPU available: False, using: 0 HPUs\n",
      "/opt/conda/lib/python3.11/site-packages/pytorch_lightning/trainer/connectors/logger_connector/logger_connector.py:76: Starting from v1.9.0, `tensorboardX` has been removed as a dependency of the `pytorch_lightning` package, due to potential conflicts with other packages in the ML ecosystem. For this reason, `logger=True` will use `CSVLogger` as the default logger, unless the `tensorboard` or `tensorboardX` packages are found. Please `pip install lightning[extra]` or one of them to enable TensorBoard support by default\n"
     ]
    }
   ],
   "source": [
    "inn_model = InvertibleNN(dim=dim+n_feature, hidden_dim=hidden_dim, n_blocks=n_blocks, n_layers=n_layers, input_dim=input_dim, dropout=dropout, LDJ=lamb>0)\n",
    "model = CombinedNetwork(inn_model=inn_model, input_dim=dim, lifted_dim=n_feature, Xmax=Xmax, Xmin=Xmin)\n",
    "path = \"model_checkpoint_SG.ckpt\"\n",
    "lightning_model = TrainModel.load_from_checkpoint(path, model=model, rank=rank, learning_rate=learning_rate, map_location=\"cpu\")\n",
    "trainer = pl.Trainer(accelerator=\"gpu\", devices=4, strategy=\"ddp_notebook\", max_epochs=num_epochs)"
   ]
  },
  {
   "cell_type": "code",
   "execution_count": 9,
   "id": "54364185-0c2f-433c-9277-17d4419aa82b",
   "metadata": {
    "tags": []
   },
   "outputs": [],
   "source": [
    "length = X_test.shape[1] // n_test\n",
    "H_test = []\n",
    "for i in range(n_test):\n",
    "    H_test.append(X_test[:, i*length:(i+1)*length])\n",
    "H_test = np.stack([H_test[idx].T for idx in range(n_test)], axis=0)\n",
    "test_dataset = TensorDataset(torch.tensor(H_test))\n",
    "test_loader = DataLoader(test_dataset, batch_size=9999, shuffle=True)"
   ]
  },
  {
   "cell_type": "code",
   "execution_count": 9,
   "id": "5b65bcc7-4cda-4e60-8fe3-8b08b994f587",
   "metadata": {
    "tags": []
   },
   "outputs": [
    {
     "name": "stderr",
     "output_type": "stream",
     "text": [
      "You are using a CUDA device ('NVIDIA H100 80GB HBM3') that has Tensor Cores. To properly utilize them, you should set `torch.set_float32_matmul_precision('medium' | 'high')` which will trade-off precision for performance. For more details, read https://pytorch.org/docs/stable/generated/torch.set_float32_matmul_precision.html#torch.set_float32_matmul_precision\n",
      "Initializing distributed: GLOBAL_RANK: 0, MEMBER: 1/4\n",
      "You are using a CUDA device ('NVIDIA H100 80GB HBM3') that has Tensor Cores. To properly utilize them, you should set `torch.set_float32_matmul_precision('medium' | 'high')` which will trade-off precision for performance. For more details, read https://pytorch.org/docs/stable/generated/torch.set_float32_matmul_precision.html#torch.set_float32_matmul_precision\n",
      "You are using a CUDA device ('NVIDIA H100 80GB HBM3') that has Tensor Cores. To properly utilize them, you should set `torch.set_float32_matmul_precision('medium' | 'high')` which will trade-off precision for performance. For more details, read https://pytorch.org/docs/stable/generated/torch.set_float32_matmul_precision.html#torch.set_float32_matmul_precision\n",
      "You are using a CUDA device ('NVIDIA H100 80GB HBM3') that has Tensor Cores. To properly utilize them, you should set `torch.set_float32_matmul_precision('medium' | 'high')` which will trade-off precision for performance. For more details, read https://pytorch.org/docs/stable/generated/torch.set_float32_matmul_precision.html#torch.set_float32_matmul_precision\n",
      "Initializing distributed: GLOBAL_RANK: 1, MEMBER: 2/4\n",
      "Initializing distributed: GLOBAL_RANK: 2, MEMBER: 3/4\n",
      "Initializing distributed: GLOBAL_RANK: 3, MEMBER: 4/4\n",
      "----------------------------------------------------------------------------------------------------\n",
      "distributed_backend=nccl\n",
      "All distributed processes registered. Starting with 4 processes\n",
      "----------------------------------------------------------------------------------------------------\n",
      "\n",
      "LOCAL_RANK: 0 - CUDA_VISIBLE_DEVICES: [0,1,2,3]\n",
      "LOCAL_RANK: 3 - CUDA_VISIBLE_DEVICES: [0,1,2,3]\n",
      "LOCAL_RANK: 1 - CUDA_VISIBLE_DEVICES: [0,1,2,3]\n",
      "LOCAL_RANK: 2 - CUDA_VISIBLE_DEVICES: [0,1,2,3]\n"
     ]
    },
    {
     "name": "stdout",
     "output_type": "stream",
     "text": [
      "Testing DataLoader 0: 100%|██████████| 1/1 [00:00<00:00,  2.06it/s]\n",
      "────────────────────────────────────────────────────────────────────────────────────────────────────────────────────────\n",
      "       Test metric             DataLoader 0\n",
      "────────────────────────────────────────────────────────────────────────────────────────────────────────────────────────\n",
      "        test_loss          2.874508936656639e-05\n",
      "────────────────────────────────────────────────────────────────────────────────────────────────────────────────────────\n"
     ]
    },
    {
     "data": {
      "text/plain": [
       "[{'test_loss': 2.874508936656639e-05}]"
      ]
     },
     "execution_count": 9,
     "metadata": {},
     "output_type": "execute_result"
    }
   ],
   "source": [
    "warnings.filterwarnings(\"ignore\")\n",
    "trainer.test(lightning_model, dataloaders=test_loader)"
   ]
  },
  {
   "cell_type": "code",
   "execution_count": 10,
   "id": "3c46516d-2760-44f1-b2f9-96733ad74163",
   "metadata": {
    "tags": []
   },
   "outputs": [
    {
     "name": "stderr",
     "output_type": "stream",
     "text": [
      "/opt/conda/lib/python3.11/site-packages/pydmd/snapshots.py:73: UserWarning: Input data condition number 597635.375. Consider preprocessing data, passing in augmented data\n",
      "matrix, or regularization methods.\n",
      "  warnings.warn(\n"
     ]
    }
   ],
   "source": [
    "traj = H_test[18, :50, :].reshape(1, 50, 50)\n",
    "GY, GY_pred, _ = dmd(lightning_model.model, torch.tensor(traj), rank)\n",
    "X_recons = lightning_model.model(GY_pred.cpu().T, reverse=True).T.detach().numpy()"
   ]
  },
  {
   "cell_type": "code",
   "execution_count": 25,
   "id": "5b08e558-13a6-43b9-b6b4-fe120e0730c9",
   "metadata": {
    "tags": []
   },
   "outputs": [
    {
     "data": {
      "image/png": "[encoded data removed]",
      "text/plain": [
       "<Figure size 400x400 with 2 Axes>"
      ]
     },
     "metadata": {},
     "output_type": "display_data"
    }
   ],
   "source": [
    "from matplotlib.font_manager import FontProperties\n",
    "\n",
    "arial_font = FontProperties(fname=\"/root/.fonts/arial.ttf\", size=19.5)\n",
    "\n",
    "x = np.linspace(-5, 5, 50)     \n",
    "t = np.linspace(0, 0.5, 50)      \n",
    "X, T = np.meshgrid(t, x)         \n",
    "\n",
    "plt.figure(figsize=(4, 4))\n",
    "\n",
    "im = plt.imshow(\n",
    "    X_recons.T,\n",
    "    extent=[t.min(), t.max(), x.min(), x.max()],\n",
    "    aspect='auto',\n",
    "    origin='lower',\n",
    "    cmap='viridis'  \n",
    ")\n",
    "\n",
    "plt.title(\"$u(x, t)$\", fontsize=12, fontproperties=arial_font, pad=10)\n",
    "\n",
    "plt.xlabel(\"$t$\", fontsize=19.5, fontproperties=arial_font)\n",
    "plt.ylabel(\"$x$\", fontsize=19.5, fontproperties=arial_font)\n",
    "plt.xticks(np.arange(0, 0.51, 0.1), fontsize=8, fontproperties=arial_font)\n",
    "plt.yticks(fontsize=8, fontproperties=arial_font)\n",
    "\n",
    "\n",
    "cbar = plt.colorbar(im)\n",
    "cbar.ax.tick_params(labelsize=8)\n",
    "for l in cbar.ax.get_yticklabels():\n",
    "    l.set_fontproperties(arial_font)\n",
    "\n",
    "plt.tight_layout()\n",
    "plt.savefig(\"pde1.svg\", format='svg', bbox_inches='tight')\n",
    "plt.show()"
   ]
  },
  {
   "cell_type": "code",
   "execution_count": null,
   "id": "36e2cd87-a0e0-41ca-8ffe-dfdf69286657",
   "metadata": {},
   "outputs": [],
   "source": []
  }
 ],
 "metadata": {
  "kernelspec": {
   "display_name": "Python 3 (ipykernel)",
   "language": "python",
   "name": "python3"
  },
  "language_info": {
   "codemirror_mode": {
    "name": "ipython",
    "version": 3
   },
   "file_extension": ".py",
   "mimetype": "text/x-python",
   "name": "python",
   "nbconvert_exporter": "python",
   "pygments_lexer": "ipython3",
   "version": "3.11.9"
  }
 },
 "nbformat": 4,
 "nbformat_minor": 5
}
