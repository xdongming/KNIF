{
 "cells": [
  {
   "cell_type": "code",
   "execution_count": 2,
   "id": "050e659e-20f4-4b07-b724-21cb2ef26b76",
   "metadata": {
    "tags": []
   },
   "outputs": [],
   "source": [
    "import numpy as np\n",
    "import pandas as pd\n",
    "import tensorflow.compat.v1 as tf\n",
    "from koopmanlib.dictionary import PsiNN\n",
    "from koopmanlib.solver import KoopmanDLSolver"
   ]
  },
  {
   "cell_type": "code",
   "execution_count": 3,
   "id": "b602e280-468b-4cf2-a863-55ec84de6de8",
   "metadata": {
    "tags": []
   },
   "outputs": [],
   "source": [
    "dim = 1 \n",
    "hidden_dim = 80\n",
    "input_dim = 1\n",
    "n_feature = 19\n",
    "num_epochs = 100\n",
    "batch_size = 128\n",
    "n_train = 4140\n",
    "n_test = 4140\n",
    "learning_rate = 1e-3"
   ]
  },
  {
   "cell_type": "code",
   "execution_count": 4,
   "id": "7a5c67d8-35ba-439c-a7ca-a6c388c65c71",
   "metadata": {
    "tags": []
   },
   "outputs": [],
   "source": [
    "X_train = pd.read_csv('EMPS_X_train.csv', header=None).values\n",
    "X_test = pd.read_csv('EMPS_X_test.csv', header=None).values\n",
    "U_train = pd.read_csv('EMPS_U_train.csv', header=None).values\n",
    "U_test = pd.read_csv('EMPS_U_test.csv', header=None).values\n",
    "\n",
    "length = X_train.shape[1] // n_train\n",
    "HX_train = []\n",
    "HU_train = []\n",
    "for i in range(n_train):\n",
    "    HX_train.append(X_train[:, i*length:(i+1)*length])\n",
    "    HU_train.append(U_train[:, i*length:(i+1)*length])\n",
    "HX_train = np.stack([HX_train[idx].T for idx in range(n_train)], axis=0)\n",
    "HU_train = np.stack([HU_train[idx].T for idx in range(n_train)], axis=0)\n",
    "HX_test = []\n",
    "HU_test = []\n",
    "for i in range(n_test):\n",
    "    HX_test.append(X_test[:, i*length:(i+1)*length])\n",
    "    HU_test.append(U_test[:, i*length:(i+1)*length])\n",
    "HX_test = np.stack([HX_test[idx].T for idx in range(n_test)], axis=0)\n",
    "HU_test = np.stack([HU_test[idx].T for idx in range(n_test)], axis=0)\n",
    "\n",
    "H_train = np.concatenate([HX_train, HU_train], axis=-1)\n",
    "H_test = np.concatenate([HX_test, HU_test], axis=-1)"
   ]
  },
  {
   "cell_type": "code",
   "execution_count": null,
   "id": "c31b4457-3c72-40df-b3ee-036020940634",
   "metadata": {
    "tags": []
   },
   "outputs": [],
   "source": [
    "error_temp = []\n",
    "\n",
    "data_train = [H_train[:, 0:5,:].reshape(-1, dim+input_dim), H_train[:, 1:6,:].reshape(-1, dim+input_dim)]\n",
    "data_valid = [H_train[:, 0:5,:].reshape(-1, dim+input_dim), H_train[:, 1:6,:].reshape(-1, dim+input_dim)]\n",
    "basis_function = PsiNN(layer_sizes=[hidden_dim, hidden_dim, hidden_dim], n_psi_train=dim+n_feature)\n",
    "solver = KoopmanDLSolver(dic=basis_function,\n",
    "                        target_dim=dim+input_dim,\n",
    "                        reg=0.0)\n",
    "solver.build(data_train=data_train,\n",
    "                 data_valid=data_valid,\n",
    "                 epochs=num_epochs,\n",
    "                 batch_size=batch_size,\n",
    "                 lr=learning_rate,\n",
    "                 log_interval=1,\n",
    "                 lr_decay_factor=0.92)\n",
    "for j in range(n_test):\n",
    "    x_traj = H_test[j, 0:6,:]\n",
    "    x0_test = x_traj[0]\n",
    "    x0_test = x0_test.reshape(-1, x0_test.shape[-1])\n",
    "    x_est_traj_DL = solver.predict(x0_test, 5)\n",
    "    error_temp.append((x_est_traj_DL[:, :dim]-x_traj[1:, :dim]) ** 2)\n",
    "error = np.mean(np.array(error_temp))\n",
    "    \n",
    "df = pd.DataFrame([error])\n",
    "df.to_csv(\"WH_EDMDDL.csv\", index=False)"
   ]
  },
  {
   "cell_type": "code",
   "execution_count": 9,
   "id": "b5134d4e-80c9-4e0b-b8e9-fd2989b561d4",
   "metadata": {
    "tags": []
   },
   "outputs": [
    {
     "data": {
      "text/plain": [
       "7.47585868356635e-06"
      ]
     },
     "execution_count": 9,
     "metadata": {},
     "output_type": "execute_result"
    }
   ],
   "source": [
    "error"
   ]
  },
  {
   "cell_type": "code",
   "execution_count": null,
   "id": "410234cb-7866-4aea-add9-05f8302380df",
   "metadata": {},
   "outputs": [],
   "source": []
  }
 ],
 "metadata": {
  "kernelspec": {
   "display_name": "Python 3 (ipykernel)",
   "language": "python",
   "name": "python3"
  },
  "language_info": {
   "codemirror_mode": {
    "name": "ipython",
    "version": 3
   },
   "file_extension": ".py",
   "mimetype": "text/x-python",
   "name": "python",
   "nbconvert_exporter": "python",
   "pygments_lexer": "ipython3",
   "version": "3.11.9"
  }
 },
 "nbformat": 4,
 "nbformat_minor": 5
}
