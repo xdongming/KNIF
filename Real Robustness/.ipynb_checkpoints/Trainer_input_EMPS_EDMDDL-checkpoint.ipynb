{
 "cells": [
  {
   "cell_type": "code",
   "execution_count": 1,
   "id": "050e659e-20f4-4b07-b724-21cb2ef26b76",
   "metadata": {
    "tags": []
   },
   "outputs": [
    {
     "name": "stderr",
     "output_type": "stream",
     "text": [
      "2025-06-09 08:08:24.157552: I tensorflow/core/util/port.cc:153] oneDNN custom operations are on. You may see slightly different numerical results due to floating-point round-off errors from different computation orders. To turn them off, set the environment variable `TF_ENABLE_ONEDNN_OPTS=0`.\n",
      "2025-06-09 08:08:24.173131: E external/local_xla/xla/stream_executor/cuda/cuda_fft.cc:485] Unable to register cuFFT factory: Attempting to register factory for plugin cuFFT when one has already been registered\n",
      "2025-06-09 08:08:24.190944: E external/local_xla/xla/stream_executor/cuda/cuda_dnn.cc:8454] Unable to register cuDNN factory: Attempting to register factory for plugin cuDNN when one has already been registered\n",
      "2025-06-09 08:08:24.196170: E external/local_xla/xla/stream_executor/cuda/cuda_blas.cc:1452] Unable to register cuBLAS factory: Attempting to register factory for plugin cuBLAS when one has already been registered\n",
      "2025-06-09 08:08:24.209386: I tensorflow/core/platform/cpu_feature_guard.cc:210] This TensorFlow binary is optimized to use available CPU instructions in performance-critical operations.\n",
      "To enable the following instructions: AVX2 AVX512F AVX512_VNNI AVX512_BF16 AVX512_FP16 AVX_VNNI AMX_TILE AMX_INT8 AMX_BF16 FMA, in other operations, rebuild TensorFlow with the appropriate compiler flags.\n"
     ]
    }
   ],
   "source": [
    "import numpy as np\n",
    "import pandas as pd\n",
    "import tensorflow.compat.v1 as tf\n",
    "from koopmanlib.dictionary import PsiNN\n",
    "from koopmanlib.solver import KoopmanDLSolver"
   ]
  },
  {
   "cell_type": "code",
   "execution_count": 2,
   "id": "b602e280-468b-4cf2-a863-55ec84de6de8",
   "metadata": {
    "tags": []
   },
   "outputs": [],
   "source": [
    "dim = 1 \n",
    "hidden_dim = 80\n",
    "input_dim = 1\n",
    "n_feature = 19\n",
    "num_epochs = 100\n",
    "batch_size = 128\n",
    "n_train = 4140\n",
    "n_test = 4140\n",
    "learning_rate = 1e-3"
   ]
  },
  {
   "cell_type": "code",
   "execution_count": 3,
   "id": "7a5c67d8-35ba-439c-a7ca-a6c388c65c71",
   "metadata": {
    "tags": []
   },
   "outputs": [],
   "source": [
    "X_train = pd.read_csv('EMPS_X_train.csv', header=None).values\n",
    "X_test = pd.read_csv('EMPS_X_test.csv', header=None).values\n",
    "U_train = pd.read_csv('EMPS_U_train.csv', header=None).values\n",
    "U_test = pd.read_csv('EMPS_U_test.csv', header=None).values\n",
    "\n",
    "length = X_train.shape[1] // n_train\n",
    "HX_train = []\n",
    "HU_train = []\n",
    "for i in range(n_train):\n",
    "    HX_train.append(X_train[:, i*length:(i+1)*length])\n",
    "    HU_train.append(U_train[:, i*length:(i+1)*length])\n",
    "HX_train = np.stack([HX_train[idx].T for idx in range(n_train)], axis=0)\n",
    "HU_train = np.stack([HU_train[idx].T for idx in range(n_train)], axis=0)\n",
    "HX_test = []\n",
    "HU_test = []\n",
    "for i in range(n_test):\n",
    "    HX_test.append(X_test[:, i*length:(i+1)*length])\n",
    "    HU_test.append(U_test[:, i*length:(i+1)*length])\n",
    "HX_test = np.stack([HX_test[idx].T for idx in range(n_test)], axis=0)\n",
    "HU_test = np.stack([HU_test[idx].T for idx in range(n_test)], axis=0)\n",
    "\n",
    "H_train = np.concatenate([HX_train, HU_train], axis=-1)\n",
    "H_test = np.concatenate([HX_test, HU_test], axis=-1)"
   ]
  },
  {
   "cell_type": "code",
   "execution_count": 4,
   "id": "c31b4457-3c72-40df-b3ee-036020940634",
   "metadata": {
    "tags": []
   },
   "outputs": [
    {
     "name": "stdout",
     "output_type": "stream",
     "text": [
      "1 done!\n"
     ]
    }
   ],
   "source": [
    "# sample_list = [1, 2, 3, 4, 5, 6, 7, 8, 9, 10, 20, 30, 40, 50, 60, 70, 80, 90, 100]\n",
    "sample_list = [1]\n",
    "error_list = []\n",
    "\n",
    "for i in sample_list:\n",
    "    error_temp = []\n",
    "    data_train = [H_train[:, 0:5*i:i,:].reshape(-1, dim+input_dim), H_train[:, i:6*i:i,:].reshape(-1, dim+input_dim)]\n",
    "    data_valid = [H_train[:, 0:5*i:i,:].reshape(-1, dim+input_dim), H_train[:, i:6*i:i,:].reshape(-1, dim+input_dim)]\n",
    "    basis_function = PsiNN(layer_sizes=[hidden_dim, hidden_dim, hidden_dim], n_psi_train=dim+n_feature)\n",
    "    solver = KoopmanDLSolver(dic=basis_function,\n",
    "                             target_dim=dim+input_dim,\n",
    "                             reg=0.0)\n",
    "    solver.build(data_train=data_train,\n",
    "                 data_valid=data_valid,\n",
    "                 epochs=num_epochs,\n",
    "                 batch_size=batch_size,\n",
    "                 lr=learning_rate,\n",
    "                 log_interval=1,\n",
    "                 lr_decay_factor=0.92)\n",
    "    for j in range(n_test):\n",
    "        x_traj = H_test[j, 0:6*i:i,:]\n",
    "        x0_test = x_traj[0]\n",
    "        x0_test = x0_test.reshape(-1, x0_test.shape[-1])\n",
    "        x_est_traj_DL = solver.predict(x0_test, 5)\n",
    "        error_temp.append((x_est_traj_DL[:, :dim]-x_traj[1:, :dim]) ** 2)\n",
    "    error_list.append(np.mean(np.array(error_temp)))\n",
    "    print(f\"{i} done!\")\n",
    "    \n",
    "df = pd.DataFrame(error_list)\n",
    "df.to_csv(\"sample.csv\", index=False)"
   ]
  },
  {
   "cell_type": "code",
   "execution_count": 6,
   "id": "c74ac422-76d6-4d36-a389-c000307c1586",
   "metadata": {
    "tags": []
   },
   "outputs": [
    {
     "data": {
      "text/plain": [
       "[2.022272260966303e-06]"
      ]
     },
     "execution_count": 6,
     "metadata": {},
     "output_type": "execute_result"
    }
   ],
   "source": [
    "error_list"
   ]
  },
  {
   "cell_type": "code",
   "execution_count": 16,
   "id": "124648df-3f11-4659-b7b6-c1634c47530a",
   "metadata": {
    "tags": []
   },
   "outputs": [
    {
     "data": {
      "text/plain": [
       "array([[-1.39960000e+00,  1.96520000e+00,  9.90050000e-01],\n",
       "       [-1.11739474e+00,  1.96246790e+00,  8.95827920e-01],\n",
       "       [-8.58274644e-01,  1.93355378e+00,  8.10570424e-01],\n",
       "       [-6.20210952e-01,  1.88399465e+00,  7.33429655e-01],\n",
       "       [-4.01522680e-01,  1.81652767e+00,  6.63636413e-01],\n",
       "       [-2.00532084e-01,  1.73243165e+00,  6.00493035e-01],\n",
       "       [-1.53467496e-02,  1.63234141e+00,  5.43366681e-01],\n",
       "       [ 1.56254254e-01,  1.51659902e+00,  4.91683094e-01],\n",
       "       [ 3.16746297e-01,  1.38506253e+00,  4.44920929e-01],\n",
       "       [ 4.68429835e-01,  1.23622365e+00,  4.02606857e-01],\n",
       "       [ 6.12344096e-01,  1.06549259e+00,  3.64311921e-01],\n",
       "       [ 7.45854095e-01,  8.62782425e-01,  3.29649671e-01],\n",
       "       [ 8.57366657e-01,  6.11267863e-01,  2.98276152e-01],\n",
       "       [ 9.16735376e-01,  2.97339737e-01,  2.69888450e-01],\n",
       "       [ 8.75394586e-01, -4.53028396e-02,  2.44209847e-01],\n",
       "       [ 7.24051640e-01, -3.16035184e-01,  2.20973903e-01],\n",
       "       [ 5.23359281e-01, -4.71272751e-01,  1.99944890e-01],\n",
       "       [ 3.19658159e-01, -5.35752866e-01,  1.80914813e-01],\n",
       "       [ 1.30582056e-01, -5.34875911e-01,  1.63695232e-01],\n",
       "       [-3.57292752e-02, -4.83553741e-01,  1.48115211e-01],\n",
       "       [-1.71781282e-01, -3.90736844e-01,  1.34019145e-01],\n",
       "       [-2.67653196e-01, -2.64997744e-01,  1.21264918e-01],\n",
       "       [-3.12355290e-01, -1.20754481e-01,  1.09723509e-01],\n",
       "       [-3.01025102e-01,  1.89561049e-02,  9.92795761e-02],\n",
       "       [-2.42544750e-01,  1.30281580e-01,  8.98300587e-02],\n",
       "       [-1.56239826e-01,  2.00193289e-01,  8.12811575e-02],\n",
       "       [-6.16214176e-02,  2.27694023e-01,  7.35470050e-02],\n",
       "       [ 2.65222308e-02,  2.18164369e-01,  6.65495363e-02],\n",
       "       [ 9.77171056e-02,  1.79591740e-01,  6.02181860e-02],\n",
       "       [ 1.44837467e-01,  1.21668562e-01,  5.44892558e-02],\n",
       "       [ 1.64395553e-01,  5.55762179e-02,  4.93051471e-02],\n",
       "       [ 1.57427091e-01, -7.27536013e-03,  4.46137420e-02],\n",
       "       [ 1.29377375e-01, -5.75542716e-02,  4.03680241e-02],\n",
       "       [ 8.83718006e-02, -8.97924563e-02,  3.65256953e-02],\n",
       "       [ 4.29634758e-02, -1.02583016e-01,  3.30486386e-02],\n",
       "       [ 5.74258267e-04, -9.76986360e-02,  2.99023618e-02],\n",
       "       [-3.32283233e-02, -7.90479221e-02,  2.70555664e-02],\n",
       "       [-5.50349553e-02, -5.17966837e-02,  2.44798477e-02],\n",
       "       [-6.37198373e-02, -2.15395205e-02,  2.21494621e-02],\n",
       "       [-6.03272833e-02,  6.56887121e-03,  2.00410991e-02],\n",
       "       [-4.76092826e-02,  2.85884747e-02,  1.81336438e-02],\n",
       "       [-2.92837110e-02,  4.22502882e-02,  1.64079543e-02],\n",
       "       [-9.24060720e-03,  4.70066276e-02,  1.48466726e-02],\n",
       "       [ 9.10214742e-03,  4.37690490e-02,  1.34340686e-02],\n",
       "       [ 2.32191368e-02,  3.44847251e-02,  1.21559034e-02],\n",
       "       [ 3.16839443e-02,  2.16587188e-02,  1.09993043e-02],\n",
       "       [ 3.41873217e-02,  7.88441730e-03,  9.95264708e-03],\n",
       "       [ 3.13899804e-02, -4.56492820e-03,  9.00544461e-03],\n",
       "       [ 2.46488839e-02, -1.40301711e-02,  8.14823832e-03],\n",
       "       [ 1.56799919e-02, -1.96114202e-02,  7.37249328e-03],\n",
       "       [ 6.22737174e-03, -2.11656165e-02,  6.67049920e-03],\n",
       "       [-2.20756791e-03, -1.91877953e-02,  6.03528128e-03],\n",
       "       [-8.54823746e-03, -1.46193814e-02,  5.46052276e-03],\n",
       "       [-1.22285246e-02, -8.62564791e-03,  4.94049847e-03],\n",
       "       [-1.31875026e-02, -2.37909166e-03,  4.47001717e-03],\n",
       "       [-1.17888607e-02,  3.12079372e-03,  4.04437072e-03],\n",
       "       [-8.68927307e-03,  7.16969862e-03,  3.65928907e-03],\n",
       "       [-4.68484890e-03,  9.41314138e-03,  3.31090043e-03],\n",
       "       [-5.63876852e-04,  9.83701159e-03,  2.99569619e-03],\n",
       "       [ 3.01218893e-03,  8.70751402e-03,  2.71049960e-03],\n",
       "       [ 5.58646241e-03,  6.47937133e-03,  2.45243749e-03]])"
      ]
     },
     "execution_count": 16,
     "metadata": {},
     "output_type": "execute_result"
    }
   ],
   "source": [
    "x_est_traj_DL"
   ]
  },
  {
   "cell_type": "code",
   "execution_count": 9,
   "id": "17e4e743-3fcf-4bdf-bd03-cd65e86a880d",
   "metadata": {
    "tags": []
   },
   "outputs": [
    {
     "data": {
      "text/plain": [
       "[<matplotlib.lines.Line2D at 0x7f197b9b9a90>]"
      ]
     },
     "execution_count": 9,
     "metadata": {},
     "output_type": "execute_result"
    },
    {
     "data": {
      "image/png": "[encoded data removed]",
      "text/plain": [
       "<Figure size 640x480 with 1 Axes>"
      ]
     },
     "metadata": {},
     "output_type": "display_data"
    }
   ],
   "source": [
    "from matplotlib import pyplot as plt\n",
    "plt.plot(x_est_traj_DL[:, 0], x_est_traj_DL[:, 1])"
   ]
  },
  {
   "cell_type": "code",
   "execution_count": 10,
   "id": "5c76e122-0d9b-411e-a500-df302c09345b",
   "metadata": {
    "tags": []
   },
   "outputs": [
    {
     "data": {
      "text/plain": [
       "[<matplotlib.lines.Line2D at 0x7f197b99ec50>]"
      ]
     },
     "execution_count": 10,
     "metadata": {},
     "output_type": "execute_result"
    },
    {
     "data": {
      "image/png": "[encoded data removed]",
      "text/plain": [
       "<Figure size 640x480 with 1 Axes>"
      ]
     },
     "metadata": {},
     "output_type": "display_data"
    }
   ],
   "source": [
    "plt.plot(x_traj[:, 0], x_traj[:, 1])"
   ]
  },
  {
   "cell_type": "code",
   "execution_count": null,
   "id": "c60b0fe3-e517-43a1-9b64-f571c914513a",
   "metadata": {
    "tags": []
   },
   "outputs": [],
   "source": [
    "(x_est_traj_DL[:, :dim]-x_traj[:, :dim]) ** 2"
   ]
  },
  {
   "cell_type": "code",
   "execution_count": null,
   "id": "b5134d4e-80c9-4e0b-b8e9-fd2989b561d4",
   "metadata": {},
   "outputs": [],
   "source": []
  }
 ],
 "metadata": {
  "kernelspec": {
   "display_name": "Python 3 (ipykernel)",
   "language": "python",
   "name": "python3"
  },
  "language_info": {
   "codemirror_mode": {
    "name": "ipython",
    "version": 3
   },
   "file_extension": ".py",
   "mimetype": "text/x-python",
   "name": "python",
   "nbconvert_exporter": "python",
   "pygments_lexer": "ipython3",
   "version": "3.11.0rc1"
  }
 },
 "nbformat": 4,
 "nbformat_minor": 5
}
