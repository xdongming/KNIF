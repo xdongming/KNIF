{
 "cells": [
  {
   "cell_type": "code",
   "execution_count": 1,
   "id": "050e659e-20f4-4b07-b724-21cb2ef26b76",
   "metadata": {
    "tags": []
   },
   "outputs": [],
   "source": [
    "import numpy as np\n",
    "import pandas as pd\n",
    "from matplotlib import pyplot as plt\n",
    "import torch\n",
    "import torch.nn as nn\n",
    "import torch.optim as optim\n",
    "from torch.utils.data import DataLoader, TensorDataset\n",
    "import torch.nn.functional as F\n",
    "from torch.func import vmap, jacrev\n",
    "from tqdm import tqdm\n",
    "import os\n",
    "import random\n",
    "import pytorch_lightning as pl\n",
    "from pytorch_lightning.callbacks import ModelCheckpoint\n",
    "from pytorch_lightning.callbacks import Callback\n",
    "import math\n",
    "from pydmd import DMD\n",
    "from sklearn.preprocessing import MinMaxScaler\n",
    "import warnings\n",
    "from sklearn.cluster import KMeans"
   ]
  },
  {
   "cell_type": "code",
   "execution_count": 2,
   "id": "84b6014d-e3a5-4d46-981b-0b39821bf013",
   "metadata": {
    "tags": []
   },
   "outputs": [],
   "source": [
    "dim = 1 \n",
    "hidden_dim = 10 \n",
    "input_dim = 0\n",
    "n_blocks = 3 \n",
    "n_layers = 1\n",
    "n_feature = 5\n",
    "rank = 3\n",
    "batch_size = 512\n",
    "n_train = 10000\n",
    "n_valid = 1000\n",
    "n_test = 1000\n",
    "dropout = 0\n",
    "num_epochs = 100 \n",
    "lamb = 1e-3\n",
    "learning_rate = 1e-3  "
   ]
  },
  {
   "cell_type": "code",
   "execution_count": 3,
   "id": "6874831a-16e4-4744-8cc9-1cf2c819a392",
   "metadata": {
    "tags": []
   },
   "outputs": [],
   "source": [
    "X_train = pd.read_csv('single_train.csv', header=None).values\n",
    "X_valid = pd.read_csv('single_valid.csv', header=None).values\n",
    "X_test = pd.read_csv('single_test.csv', header=None).values\n",
    "\n",
    "length = X_train.shape[1] // n_train\n",
    "H_train = []\n",
    "for i in range(n_train):\n",
    "    H_train.append(X_train[:, i*length:(i+1)*length])\n",
    "H_train = np.stack([H_train[idx].T for idx in range(n_train)], axis=0)\n",
    "H_valid = []\n",
    "for i in range(n_valid):\n",
    "    H_valid.append(X_valid[:, i*length:(i+1)*length])\n",
    "H_valid = np.stack([H_valid[idx].T for idx in range(n_valid)], axis=0)\n",
    "H_test = []\n",
    "for i in range(n_test):\n",
    "    H_test.append(X_test[:, i*length:(i+1)*length])\n",
    "H_test = np.stack([H_test[idx].T for idx in range(n_test)], axis=0)"
   ]
  },
  {
   "cell_type": "code",
   "execution_count": 4,
   "id": "18639093-8bd2-44b5-82b7-ad2fabbe46d5",
   "metadata": {
    "tags": []
   },
   "outputs": [],
   "source": [
    "epsilon = 1e-4\n",
    "\n",
    "kmeans = KMeans(n_clusters=n_feature, random_state=0).fit(X_train.T)\n",
    "centers = kmeans.cluster_centers_        \n",
    "c_norm = np.sum(centers**2, axis=1, keepdims=True).T \n",
    "x_norm = np.sum(X_test.T**2, axis=1, keepdims=True) \n",
    "cross = X_test.T @ centers.T                                \n",
    "dist_sq = x_norm - 2 * cross + c_norm               \n",
    "r = np.sqrt(np.maximum(dist_sq, 0))               \n",
    "rbf = r**2 * np.log(r + epsilon)  \n",
    "Z_test = np.concatenate([X_test.T, rbf], axis=1)  \n",
    "    \n",
    "k = 134    \n",
    "test = Z_test[k*length:(k+1)*length, :]\n",
    "X = test[:-1, :]\n",
    "Y = test[1:, :]\n",
    "K = np.linalg.pinv(X) @ Y\n",
    "Y_pred = X @ K\n",
    "x_pred = Y_pred[:, :dim]"
   ]
  },
  {
   "cell_type": "code",
   "execution_count": 5,
   "id": "59519936-822c-4689-8cb7-59924305cf26",
   "metadata": {
    "tags": []
   },
   "outputs": [
    {
     "data": {
      "image/png": "[encoded data removed]",
      "text/plain": [
       "<Figure size 500x400 with 1 Axes>"
      ]
     },
     "metadata": {},
     "output_type": "display_data"
    }
   ],
   "source": [
    "from matplotlib.font_manager import FontProperties\n",
    "from scipy.interpolate import interp1d\n",
    "\n",
    "arial_font = FontProperties(fname=\"/root/.fonts/arial.ttf\", size=19.5)\n",
    "\n",
    "t = np.linspace(0.01, 0.60, num=x_pred.shape[0])\n",
    "\n",
    "line_color = '#94346E'    \n",
    "fill_color = '#94346E'     \n",
    "point_edge = '#56B4E9'   \n",
    "\n",
    "plt.figure(figsize=(5, 4))\n",
    "\n",
    "plt.plot(t, x_pred, color=\"blue\", linewidth=1.5, alpha=0.6, label='Reconstructed')\n",
    "plt.scatter(t, H_test[134, 1:, :], s=8, color=\"red\",\n",
    "            linewidths=1.0, alpha=0.8, label='Test')\n",
    "\n",
    "plt.xticks([])\n",
    "plt.yticks([])\n",
    "\n",
    "plt.tight_layout()\n",
    "plt.gca().axis('off')\n",
    "plt.savefig(\"c3.svg\", format='svg', bbox_inches='tight')\n",
    "plt.show()"
   ]
  },
  {
   "cell_type": "code",
   "execution_count": null,
   "id": "eafaae48-c890-4a7f-9b0e-163a66101c11",
   "metadata": {},
   "outputs": [],
   "source": []
  }
 ],
 "metadata": {
  "kernelspec": {
   "display_name": "Python 3 (ipykernel)",
   "language": "python",
   "name": "python3"
  },
  "language_info": {
   "codemirror_mode": {
    "name": "ipython",
    "version": 3
   },
   "file_extension": ".py",
   "mimetype": "text/x-python",
   "name": "python",
   "nbconvert_exporter": "python",
   "pygments_lexer": "ipython3",
   "version": "3.11.9"
  }
 },
 "nbformat": 4,
 "nbformat_minor": 5
}
