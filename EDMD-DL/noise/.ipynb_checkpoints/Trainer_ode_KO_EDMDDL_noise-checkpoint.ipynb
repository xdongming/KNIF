{
 "cells": [
  {
   "cell_type": "code",
   "execution_count": 1,
   "id": "050e659e-20f4-4b07-b724-21cb2ef26b76",
   "metadata": {
    "tags": []
   },
   "outputs": [
    {
     "name": "stderr",
     "output_type": "stream",
     "text": [
      "2025-06-08 10:35:49.625955: I tensorflow/core/util/port.cc:153] oneDNN custom operations are on. You may see slightly different numerical results due to floating-point round-off errors from different computation orders. To turn them off, set the environment variable `TF_ENABLE_ONEDNN_OPTS=0`.\n",
      "2025-06-08 10:35:49.643232: E external/local_xla/xla/stream_executor/cuda/cuda_fft.cc:485] Unable to register cuFFT factory: Attempting to register factory for plugin cuFFT when one has already been registered\n",
      "2025-06-08 10:35:49.662740: E external/local_xla/xla/stream_executor/cuda/cuda_dnn.cc:8454] Unable to register cuDNN factory: Attempting to register factory for plugin cuDNN when one has already been registered\n",
      "2025-06-08 10:35:49.668370: E external/local_xla/xla/stream_executor/cuda/cuda_blas.cc:1452] Unable to register cuBLAS factory: Attempting to register factory for plugin cuBLAS when one has already been registered\n",
      "2025-06-08 10:35:49.683329: I tensorflow/core/platform/cpu_feature_guard.cc:210] This TensorFlow binary is optimized to use available CPU instructions in performance-critical operations.\n",
      "To enable the following instructions: AVX2 AVX512F AVX512_VNNI AVX512_BF16 AVX512_FP16 AVX_VNNI AMX_TILE AMX_INT8 AMX_BF16 FMA, in other operations, rebuild TensorFlow with the appropriate compiler flags.\n"
     ]
    }
   ],
   "source": [
    "import numpy as np\n",
    "import pandas as pd\n",
    "import tensorflow.compat.v1 as tf\n",
    "from koopmanlib.dictionary import PsiNN\n",
    "from koopmanlib.solver import KoopmanDLSolver"
   ]
  },
  {
   "cell_type": "code",
   "execution_count": 2,
   "id": "b602e280-468b-4cf2-a863-55ec84de6de8",
   "metadata": {
    "tags": []
   },
   "outputs": [],
   "source": [
    "dim = 3  \n",
    "hidden_dim = 40\n",
    "input_dim = 0\n",
    "n_feature = 2\n",
    "num_epochs = 20\n",
    "batch_size = 512\n",
    "n_train = 10000\n",
    "n_valid = 1000\n",
    "n_test = 1000\n",
    "learning_rate = 1e-3"
   ]
  },
  {
   "cell_type": "code",
   "execution_count": 3,
   "id": "21b66ab6-1790-40ea-8768-31a3b8363d6e",
   "metadata": {
    "tags": []
   },
   "outputs": [],
   "source": [
    "X_train = pd.read_csv('KO_sample_train.csv', header=None).values\n",
    "X_valid = pd.read_csv('KO_sample_valid.csv', header=None).values\n",
    "X_test = pd.read_csv('KO_sample_test.csv', header=None).values\n",
    "\n",
    "length = X_train.shape[1] // n_train\n",
    "H_train = []\n",
    "for i in range(n_train):\n",
    "    H_train.append(X_train[:, i*length:(i+1)*length])\n",
    "H_train = np.stack([H_train[idx].T for idx in range(n_train)], axis=0)\n",
    "H_valid = []\n",
    "for i in range(n_valid):\n",
    "    H_valid.append(X_valid[:, i*length:(i+1)*length])\n",
    "H_valid = np.stack([H_valid[idx].T for idx in range(n_valid)], axis=0)\n",
    "H_test = []\n",
    "for i in range(n_test):\n",
    "    H_test.append(X_test[:, i*length:(i+1)*length])\n",
    "H_test = np.stack([H_test[idx].T for idx in range(n_test)], axis=0)"
   ]
  },
  {
   "cell_type": "code",
   "execution_count": null,
   "id": "c31b4457-3c72-40df-b3ee-036020940634",
   "metadata": {
    "tags": []
   },
   "outputs": [],
   "source": [
    "noise_list = [1, 2, 3, 4, 5, 6, 7, 8, 9, 10, 20, 30, 40, 50, 60, 70, 80, 90, 100]\n",
    "error_list = []\n",
    "\n",
    "for i in noise_list:\n",
    "    sigma = i / 100\n",
    "    train_noise = np.random.normal(loc=0.0, scale=sigma, size=H_train.shape)\n",
    "    valid_noise = np.random.normal(loc=0.0, scale=sigma, size=H_valid.shape)\n",
    "    test_noise = np.random.normal(loc=0.0, scale=sigma, size=H_test.shape)\n",
    "    error_temp = []\n",
    "    data_train = [(H_train[:, 0:10,:] + train_noise[:, 0:10,:]).reshape(-1, dim), (H_train[:, 1:11,:] + train_noise[:, 1:11,:]).reshape(-1, dim)]\n",
    "    data_valid = [(H_valid[:, 0:10,:] + valid_noise[:, 0:10,:]).reshape(-1, dim), (H_valid[:, 1:11,:] + valid_noise[:, 1:11,:]).reshape(-1, dim)]\n",
    "    basis_function = PsiNN(layer_sizes=[hidden_dim, hidden_dim, hidden_dim], n_psi_train=dim+n_feature)\n",
    "    solver = KoopmanDLSolver(dic=basis_function,\n",
    "                             target_dim=dim,\n",
    "                             reg=0.0)\n",
    "    solver.build(data_train=data_train,\n",
    "                 data_valid=data_valid,\n",
    "                 epochs=num_epochs,\n",
    "                 batch_size=batch_size,\n",
    "                 lr=learning_rate,\n",
    "                 log_interval=1,\n",
    "                 lr_decay_factor=0.92)\n",
    "    for j in range(n_test):\n",
    "        x_traj = H_test[j, 0:11,:] + test_noise[j, 0:11,:]\n",
    "        x0_test = x_traj[0]\n",
    "        x0_test = x0_test.reshape(-1, x0_test.shape[-1])\n",
    "        x_est_traj_DL = solver.predict(x0_test, 11)\n",
    "        error_temp.append((x_est_traj_DL-H_test[j, 0:11,:]) ** 2)\n",
    "    error_list.append(np.mean(np.array(error_temp)))\n",
    "    print(f\"{i} done!\")\n",
    "    \n",
    "df = pd.DataFrame(error_list)\n",
    "df.to_csv(\"KO_noise.csv\", index=False)"
   ]
  },
  {
   "cell_type": "code",
   "execution_count": null,
   "id": "c1738727-ed93-4445-8b8c-cf45fe0b6132",
   "metadata": {},
   "outputs": [],
   "source": []
  }
 ],
 "metadata": {
  "kernelspec": {
   "display_name": "Python 3 (ipykernel)",
   "language": "python",
   "name": "python3"
  },
  "language_info": {
   "codemirror_mode": {
    "name": "ipython",
    "version": 3
   },
   "file_extension": ".py",
   "mimetype": "text/x-python",
   "name": "python",
   "nbconvert_exporter": "python",
   "pygments_lexer": "ipython3",
   "version": "3.11.9"
  }
 },
 "nbformat": 4,
 "nbformat_minor": 5
}
