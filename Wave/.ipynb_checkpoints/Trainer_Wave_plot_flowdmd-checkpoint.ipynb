{
 "cells": [
  {
   "cell_type": "code",
   "execution_count": 1,
   "id": "050e659e-20f4-4b07-b724-21cb2ef26b76",
   "metadata": {
    "tags": []
   },
   "outputs": [],
   "source": [
    "import numpy as np\n",
    "import pandas as pd\n",
    "from matplotlib import pyplot as plt\n",
    "import torch\n",
    "import torch.nn as nn\n",
    "import torch.optim as optim\n",
    "from torch.utils.data import DataLoader, TensorDataset\n",
    "import torch.nn.functional as F\n",
    "from torch.func import vmap, jacrev\n",
    "from tqdm import tqdm\n",
    "import os\n",
    "import random\n",
    "import pytorch_lightning as pl\n",
    "from pytorch_lightning.callbacks import ModelCheckpoint\n",
    "from pytorch_lightning.callbacks import Callback\n",
    "import math\n",
    "from pydmd import DMD\n",
    "from sklearn.preprocessing import MinMaxScaler\n",
    "import warnings\n",
    "from matplotlib.font_manager import FontProperties"
   ]
  },
  {
   "cell_type": "code",
   "execution_count": 2,
   "id": "f2a57628-6d4f-47de-842f-e5d20fae90a0",
   "metadata": {
    "tags": []
   },
   "outputs": [],
   "source": [
    "class ResidualFlow(nn.Module):\n",
    "    def __init__(self, dim, hidden_dim, n_layers, input_dim=0, dropout=0, LDJ=False, block_id=0):\n",
    "        super().__init__()\n",
    "        self.dim = dim\n",
    "        self.input_dim = input_dim\n",
    "        self.LDJ = LDJ\n",
    "        self.block_id = block_id\n",
    "\n",
    "        flip = (block_id % 2 == 0)\n",
    "        self.flow = Flow(dim, hidden_dim, flip=flip)\n",
    "\n",
    "    def forward(self, x, reverse=False):\n",
    "        x_e = x\n",
    "        if not reverse:\n",
    "            y = self.flow(x_e, reverse=False)\n",
    "            logdet = 0\n",
    "            return y, logdet\n",
    "        else:\n",
    "            y = self.flow(x_e, reverse=True)\n",
    "            return y\n",
    "\n",
    "class Flow(nn.Module):\n",
    "    def __init__(self, in_channel, hidden_dim, flip=False):\n",
    "        super().__init__()\n",
    "        self.coupling = AffineCoupling(in_channel, hidden_dim, flip)\n",
    "\n",
    "    def forward(self, x, reverse=False):\n",
    "        return self.coupling(x, reverse)\n",
    "\n",
    "class AffineCoupling(nn.Module):\n",
    "    def __init__(self, dim, hidden_dim, flip=False):\n",
    "        super().__init__()\n",
    "        self.dim = dim\n",
    "        self.hidden_dim = hidden_dim\n",
    "        self.flip = flip\n",
    "\n",
    "        self.split_idx = dim // 2\n",
    "        self.rest_dim = dim - self.split_idx\n",
    "\n",
    "        self.net = nn.Sequential(\n",
    "            nn.Linear(self.split_idx, hidden_dim),\n",
    "            nn.ReLU(),\n",
    "            nn.Linear(hidden_dim, hidden_dim),\n",
    "            nn.ReLU(),\n",
    "            nn.Linear(hidden_dim, self.rest_dim * 2)\n",
    "        )\n",
    "\n",
    "    def forward(self, x, reverse=False):\n",
    "        if self.flip:\n",
    "            x2, x1 = torch.split(x, [self.rest_dim, self.split_idx], dim=-1)\n",
    "        else:\n",
    "            x1, x2 = torch.split(x, [self.split_idx, self.rest_dim], dim=-1)\n",
    "\n",
    "        h = self.net(x1)\n",
    "        s, t = torch.chunk(h, 2, dim=-1)\n",
    "        s = torch.tanh(s)\n",
    "\n",
    "        if not reverse:\n",
    "            y2 = x2 * torch.exp(s) + t\n",
    "        else:\n",
    "            y2 = (x2 - t) * torch.exp(-s)\n",
    "\n",
    "        if self.flip:\n",
    "            return torch.cat([y2, x1], dim=-1)\n",
    "        else:\n",
    "            return torch.cat([x1, y2], dim=-1)\n",
    "    \n",
    "class InvertibleNN(nn.Module):\n",
    "    def __init__(self, dim, hidden_dim, n_blocks, n_layers, input_dim=0, dropout=0, LDJ=False):\n",
    "        super(InvertibleNN, self).__init__()\n",
    "        self.dim = dim\n",
    "        self.hidden_dim = hidden_dim\n",
    "        self.n_blocks = n_blocks\n",
    "        self.n_layers = n_layers\n",
    "        self.input_dim = input_dim\n",
    "        self.blocks = nn.ModuleList([ResidualFlow(self.dim, self.hidden_dim, self.n_layers, self.input_dim, dropout, LDJ, block_id=i) for i in range(self.n_blocks)])\n",
    "    \n",
    "    def forward(self, x, u=None, reverse=False):\n",
    "        if not reverse:\n",
    "            ldj_total = 0\n",
    "            for block in self.blocks:\n",
    "                x, ldj = block(x, reverse)\n",
    "                ldj_total += ldj\n",
    "            return x, ldj_total\n",
    "        else:\n",
    "            for block in reversed(self.blocks):\n",
    "                x = block(x, reverse)\n",
    "            return x\n",
    "    \n",
    "class CombinedNetwork(nn.Module):\n",
    "    def __init__(self, inn_model, input_dim, lifted_dim):\n",
    "        super(CombinedNetwork, self).__init__()\n",
    "        self.input_dim = input_dim\n",
    "        self.inn_model = inn_model  \n",
    "        self.lifted_dim = lifted_dim\n",
    "        self.K = nn.Parameter(torch.randn(input_dim + lifted_dim, input_dim + lifted_dim), requires_grad=True)\n",
    "    \n",
    "    def forward(self, x, u=None, reverse=False):\n",
    "        x = x.float()\n",
    "        if not reverse:\n",
    "            zero_pad = torch.zeros(x.shape[0], x.shape[1], self.lifted_dim, device=x.device)\n",
    "            x = torch.cat((x, zero_pad), dim=-1)\n",
    "            x, ldj = self.inn_model(x, u, reverse)\n",
    "            return x, ldj\n",
    "        else:\n",
    "            x = self.inn_model(x, u, reverse)\n",
    "            x = x[:, :self.input_dim]\n",
    "            return x"
   ]
  },
  {
   "cell_type": "code",
   "execution_count": 3,
   "id": "8996c880-1612-417a-ade9-b294f93ad045",
   "metadata": {
    "tags": []
   },
   "outputs": [],
   "source": [
    "def dmd(model, X):\n",
    "    GX_pred_list = []\n",
    "    GX_list = []\n",
    "    GX, ldj = model(X)\n",
    "    for i in range(X.shape[0]):\n",
    "        GX_temp = GX[i, :, :].T\n",
    "        GX_pred = model.K @ GX_temp[:, :-1]\n",
    "        GX_pred_list.append(GX_pred)\n",
    "        GX_list.append(GX_temp[:, 1:])\n",
    "    GX_pred = torch.cat(GX_pred_list, dim=-1)\n",
    "    GX = torch.cat(GX_list, dim=1)\n",
    "\n",
    "    return GX, GX_pred, ldj"
   ]
  },
  {
   "cell_type": "code",
   "execution_count": 4,
   "id": "bede68be-e48a-4205-b695-7cc047d892cf",
   "metadata": {
    "tags": []
   },
   "outputs": [],
   "source": [
    "class TrainModel(pl.LightningModule):\n",
    "    def __init__(self, model, train_dataset, learning_rate=1e-3, lamb=1, path=\"model_checkpoint_NP\"):\n",
    "        super(TrainModel, self).__init__()\n",
    "        self.model = model\n",
    "        self.train_dataset = train_dataset\n",
    "        self.learning_rate = learning_rate\n",
    "        self.criterion = nn.MSELoss()\n",
    "        self.best_val_loss = float('inf')  \n",
    "        self.validation_outputs = []\n",
    "        self.lamb = lamb\n",
    "        self.train_losses = []\n",
    "        self.path = path+'.ckpt'\n",
    "\n",
    "    def forward(self, x):\n",
    "        return self.model(x)\n",
    "\n",
    "    def training_step(self, batch, batch_idx):\n",
    "        X_batch = batch[0]\n",
    "        GY, GY_pred, ldj = dmd(self.model, X_batch)\n",
    "\n",
    "        loss_lin = self.criterion(GY, GY_pred.detach())\n",
    "        loss_LDJ = ldj / X_batch.numel()\n",
    "\n",
    "        loss = loss_lin - self.lamb * loss_LDJ\n",
    "        self.log('train_loss', loss, on_step=True, on_epoch=False, prog_bar=True)\n",
    "        return loss\n",
    "\n",
    "    def validation_step(self, batch, batch_idx):\n",
    "        Z_batch = batch[0]\n",
    "        Z1, Z_pred, _ = dmd(self.model, Z_batch)\n",
    "        Z_pred = self.model(Z_pred.T, reverse=True)\n",
    "        Z1 = self.model(Z1.T, reverse=True)\n",
    "        valid_loss = self.criterion(Z_pred, Z1)\n",
    "\n",
    "        self.validation_outputs.append(valid_loss)\n",
    "        self.log('val_loss', valid_loss)\n",
    "        return valid_loss\n",
    "\n",
    "    def test_step(self, batch, batch_idx):\n",
    "        Z_batch = batch[0]\n",
    "        Z1, Z_pred, _ = dmd(self.model, Z_batch)\n",
    "        Z_pred = self.model(Z_pred.T, reverse=True)\n",
    "        Z1 = self.model(Z1.T, reverse=True)\n",
    "        test_loss = self.criterion(Z_pred, Z1)\n",
    "\n",
    "        self.log('test_loss', test_loss)\n",
    "        return test_loss\n",
    "    \n",
    "    def on_train_batch_end(self, outputs, batch, batch_idx):\n",
    "        with torch.no_grad():  \n",
    "            for name, module in self.model.named_modules():  \n",
    "                if isinstance(module, nn.Linear): \n",
    "                    if name == \"linear\":  \n",
    "                        continue\n",
    "                    weight = module.weight  \n",
    "                    sigma_max = torch.linalg.norm(weight, ord=2)  \n",
    "                    if sigma_max >= 1 - 1e-2:  \n",
    "                        scale = (1 - 1e-2) / sigma_max\n",
    "                        module.weight.data *= scale\n",
    "    \n",
    "    def on_train_epoch_start(self):\n",
    "        if os.path.exists(self.path):\n",
    "            best_state_dict = torch.load(self.path)[\"state_dict\"]\n",
    "            self.load_state_dict(best_state_dict)\n",
    "    \n",
    "    def on_train_epoch_end(self):\n",
    "        device = self.model.K.device\n",
    "        self.model.eval() \n",
    "        with torch.no_grad():\n",
    "            x_all = self.train_dataset.tensors[0].to(device)  \n",
    "\n",
    "            gx_all = self.model(x_all)[0].detach()[:, :-1, :] \n",
    "            gy_all = self.model(x_all)[0].detach()[:, 1:, :]\n",
    "\n",
    "            gx_all = gx_all.reshape(-1, gx_all.shape[-1])\n",
    "            gy_all = gy_all.reshape(-1, gy_all.shape[-1])\n",
    "\n",
    "        optimizer_K = torch.optim.Adam([self.model.K], lr=1e-3)\n",
    "        for _ in range(100):  \n",
    "            optimizer_K.zero_grad()\n",
    "            gx_pred = gx_all @ self.model.K\n",
    "            loss_K = self.criterion(gx_pred, gy_all)\n",
    "            loss_K.backward()\n",
    "            optimizer_K.step()\n",
    "            with torch.no_grad():\n",
    "                radius = torch.linalg.norm(self.model.K.data, ord=2)\n",
    "                if radius > 1.0:\n",
    "                    self.model.K.data /= radius\n",
    "\n",
    "    def on_validation_epoch_end(self):\n",
    "        avg_val_loss = torch.stack(self.validation_outputs).mean()\n",
    "        self.log('avg_val_loss', avg_val_loss)\n",
    "        self.validation_outputs.clear()\n",
    "        print(f\"Validation loss: {avg_val_loss}\")\n",
    "        with open(\"loss_log.txt\", \"a\") as f:\n",
    "            f.write(f\"{avg_val_loss.item()}\\n\")\n",
    "\n",
    "    def configure_optimizers(self):\n",
    "        g_params = [p for n, p in self.model.named_parameters() if \"K\" not in n]\n",
    "        optimizer = torch.optim.AdamW(g_params, lr=self.learning_rate, weight_decay=1e-3)\n",
    "        scheduler = torch.optim.lr_scheduler.StepLR(\n",
    "            optimizer,\n",
    "            step_size=100,\n",
    "            gamma=0.5\n",
    "        )\n",
    "\n",
    "        return {\n",
    "            \"optimizer\": optimizer,\n",
    "            \"lr_scheduler\": {\n",
    "                \"scheduler\": scheduler,\n",
    "                \"monitor\": \"val_loss\", \n",
    "            },\n",
    "            \"gradient_clip_val\": 1.0, \n",
    "            \"gradient_clip_algorithm\": \"norm\",\n",
    "        }"
   ]
  },
  {
   "cell_type": "code",
   "execution_count": 35,
   "id": "b602e280-468b-4cf2-a863-55ec84de6de8",
   "metadata": {
    "tags": []
   },
   "outputs": [],
   "source": [
    "dim = 8 \n",
    "hidden_dim = 80  \n",
    "input_dim = 0\n",
    "n_blocks = 20 \n",
    "n_feature = 12\n",
    "rank = 20\n",
    "batch_size = 1\n",
    "# n_train = 6400\n",
    "n_train = 1\n",
    "# n_valid = 1000\n",
    "n_test = 1\n",
    "dropout = 0\n",
    "num_epochs = 9999  \n",
    "lamb = 1e-3\n",
    "learning_rate = 1e-3 \n",
    "device = torch.device(\"cuda\" if torch.cuda.is_available() else \"cpu\")"
   ]
  },
  {
   "cell_type": "code",
   "execution_count": 14,
   "id": "6874831a-16e4-4744-8cc9-1cf2c819a392",
   "metadata": {
    "tags": []
   },
   "outputs": [],
   "source": [
    "X_train = pd.read_csv('y_train.csv', header=None).values.astype(float)\n",
    "length = X_train.shape[1] // n_train\n",
    "H_train = []\n",
    "for i in range(n_train):\n",
    "    H_train.append(X_train[:, i*length:(i+1)*length])\n",
    "H_train = np.stack([H_train[idx].T for idx in range(n_train)], axis=0)\n",
    "train_dataset = TensorDataset(torch.tensor(H_train, dtype=torch.float32))\n",
    "train_loader = DataLoader(train_dataset, batch_size=batch_size, shuffle=True, num_workers=8, pin_memory=True)"
   ]
  },
  {
   "cell_type": "code",
   "execution_count": 40,
   "id": "8abde0b2-c523-4bad-830f-ae0a236d0f44",
   "metadata": {
    "tags": []
   },
   "outputs": [
    {
     "name": "stderr",
     "output_type": "stream",
     "text": [
      "GPU available: True (cuda), used: True\n",
      "TPU available: False, using: 0 TPU cores\n",
      "HPU available: False, using: 0 HPUs\n"
     ]
    }
   ],
   "source": [
    "inn_model = InvertibleNN(dim=dim+input_dim+n_feature, hidden_dim=hidden_dim, n_blocks=n_blocks, n_layers=1, input_dim=input_dim, dropout=dropout, LDJ=lamb>0)\n",
    "model = CombinedNetwork(inn_model=inn_model, input_dim=dim+input_dim, lifted_dim=n_feature)\n",
    "path = \"model_checkpoint_Wave_flowdmd.ckpt\"\n",
    "lightning_model = TrainModel.load_from_checkpoint(path, model=model, train_dataset=train_dataset, learning_rate=learning_rate, map_location=\"cpu\")\n",
    "trainer = pl.Trainer(accelerator=\"gpu\", devices=4, strategy=\"ddp_notebook\", max_epochs=num_epochs)"
   ]
  },
  {
   "cell_type": "code",
   "execution_count": 41,
   "id": "5b65bcc7-4cda-4e60-8fe3-8b08b994f587",
   "metadata": {
    "tags": []
   },
   "outputs": [
    {
     "name": "stderr",
     "output_type": "stream",
     "text": [
      "You are using a CUDA device ('NVIDIA H100 80GB HBM3') that has Tensor Cores. To properly utilize them, you should set `torch.set_float32_matmul_precision('medium' | 'high')` which will trade-off precision for performance. For more details, read https://pytorch.org/docs/stable/generated/torch.set_float32_matmul_precision.html#torch.set_float32_matmul_precision\n",
      "You are using a CUDA device ('NVIDIA H100 80GB HBM3') that has Tensor Cores. To properly utilize them, you should set `torch.set_float32_matmul_precision('medium' | 'high')` which will trade-off precision for performance. For more details, read https://pytorch.org/docs/stable/generated/torch.set_float32_matmul_precision.html#torch.set_float32_matmul_precision\n",
      "Initializing distributed: GLOBAL_RANK: 0, MEMBER: 1/4\n",
      "You are using a CUDA device ('NVIDIA H100 80GB HBM3') that has Tensor Cores. To properly utilize them, you should set `torch.set_float32_matmul_precision('medium' | 'high')` which will trade-off precision for performance. For more details, read https://pytorch.org/docs/stable/generated/torch.set_float32_matmul_precision.html#torch.set_float32_matmul_precision\n",
      "You are using a CUDA device ('NVIDIA H100 80GB HBM3') that has Tensor Cores. To properly utilize them, you should set `torch.set_float32_matmul_precision('medium' | 'high')` which will trade-off precision for performance. For more details, read https://pytorch.org/docs/stable/generated/torch.set_float32_matmul_precision.html#torch.set_float32_matmul_precision\n",
      "Initializing distributed: GLOBAL_RANK: 2, MEMBER: 3/4\n",
      "Initializing distributed: GLOBAL_RANK: 1, MEMBER: 2/4\n",
      "Initializing distributed: GLOBAL_RANK: 3, MEMBER: 4/4\n",
      "----------------------------------------------------------------------------------------------------\n",
      "distributed_backend=nccl\n",
      "All distributed processes registered. Starting with 4 processes\n",
      "----------------------------------------------------------------------------------------------------\n",
      "\n",
      "LOCAL_RANK: 0 - CUDA_VISIBLE_DEVICES: [0,1,2,3]\n",
      "LOCAL_RANK: 3 - CUDA_VISIBLE_DEVICES: [0,1,2,3]\n",
      "LOCAL_RANK: 2 - CUDA_VISIBLE_DEVICES: [0,1,2,3]\n",
      "LOCAL_RANK: 1 - CUDA_VISIBLE_DEVICES: [0,1,2,3]\n"
     ]
    },
    {
     "name": "stdout",
     "output_type": "stream",
     "text": [
      "Testing DataLoader 0: 100%|██████████| 1/1 [00:00<00:00,  3.87it/s]\n",
      "────────────────────────────────────────────────────────────────────────────────────────────────────────────────────────\n",
      "       Test metric             DataLoader 0\n",
      "────────────────────────────────────────────────────────────────────────────────────────────────────────────────────────\n",
      "        test_loss         1.2458720448194072e-05\n",
      "────────────────────────────────────────────────────────────────────────────────────────────────────────────────────────\n"
     ]
    },
    {
     "data": {
      "text/plain": [
       "[{'test_loss': 1.2458720448194072e-05}]"
      ]
     },
     "execution_count": 41,
     "metadata": {},
     "output_type": "execute_result"
    }
   ],
   "source": [
    "warnings.filterwarnings(\"ignore\")\n",
    "trainer.test(lightning_model, dataloaders=train_loader)"
   ]
  },
  {
   "cell_type": "code",
   "execution_count": 42,
   "id": "b2349e24-07eb-4ab9-8eba-c5436072c26b",
   "metadata": {
    "tags": []
   },
   "outputs": [],
   "source": [
    "i = 0\n",
    "X_traj = H_train\n",
    "GY, GY_pred, _ = dmd(lightning_model.model, torch.tensor(X_traj, dtype=torch.float32))\n",
    "X_recons = lightning_model.model(GY_pred.T.cpu(), reverse=True).T.detach().numpy()"
   ]
  },
  {
   "cell_type": "code",
   "execution_count": 20,
   "id": "3c5cd331-df15-4a81-a737-1672b6ebf9b2",
   "metadata": {
    "tags": []
   },
   "outputs": [
    {
     "data": {
      "text/plain": [
       "(2620, 10, 1)"
      ]
     },
     "execution_count": 20,
     "metadata": {},
     "output_type": "execute_result"
    }
   ],
   "source": [
    "X_traj.shape"
   ]
  },
  {
   "cell_type": "code",
   "execution_count": 43,
   "id": "3e3fe170-0aba-4cf2-85fb-c09a7c789d93",
   "metadata": {
    "tags": []
   },
   "outputs": [
    {
     "data": {
      "image/png": "[encoded data removed]",
      "text/plain": [
       "<Figure size 500x400 with 1 Axes>"
      ]
     },
     "metadata": {},
     "output_type": "display_data"
    }
   ],
   "source": [
    "from scipy.interpolate import interp1d\n",
    "\n",
    "t = np.linspace(0.01, 0.61, num=length-1)\n",
    "median_traj = X_recons\n",
    "\n",
    "interp_factor = 10\n",
    "t_new = np.linspace(t.min(), t.max(), len(t) * interp_factor)\n",
    "\n",
    "f_med = interp1d(t, median_traj[1, :], kind='cubic')\n",
    "\n",
    "smooth_median = f_med(t_new)\n",
    "\n",
    "plt.figure(figsize=(5, 4))\n",
    "\n",
    "plt.plot(t_new[::18], smooth_median[::18], color=\"#4878CF\", linewidth=1.5, label='Median')\n",
    "\n",
    "plt.scatter(t[::18], X_traj[0, 1:length:18, 0], color='#D65F5F', s=8, linewidths=1.0, label='Test')\n",
    "\n",
    "# plt.plot(smooth_x, smooth_y, color=\"#0072B2\", linewidth=1.5, label='Reconstructed', zorder=1)\n",
    "\n",
    "# plt.scatter(\n",
    "#     t, X_traj[0, 1:751, 0]\n",
    "#     facecolors='none',\n",
    "#     edgecolors='#DAA520',\n",
    "#     s=30,\n",
    "#     linewidth=1.5,\n",
    "#     label='Test',\n",
    "#     zorder=2\n",
    "# )\n",
    "\n",
    "plt.axis('off')\n",
    "\n",
    "plt.tight_layout()\n",
    "plt.savefig(\"f3.svg\", format='svg', bbox_inches='tight')\n",
    "plt.show()"
   ]
  }
 ],
 "metadata": {
  "kernelspec": {
   "display_name": "Python 3 (ipykernel)",
   "language": "python",
   "name": "python3"
  },
  "language_info": {
   "codemirror_mode": {
    "name": "ipython",
    "version": 3
   },
   "file_extension": ".py",
   "mimetype": "text/x-python",
   "name": "python",
   "nbconvert_exporter": "python",
   "pygments_lexer": "ipython3",
   "version": "3.11.9"
  }
 },
 "nbformat": 4,
 "nbformat_minor": 5
}
