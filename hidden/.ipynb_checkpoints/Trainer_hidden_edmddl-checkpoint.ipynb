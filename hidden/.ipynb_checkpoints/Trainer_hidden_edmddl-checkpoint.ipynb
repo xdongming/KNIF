{
 "cells": [
  {
   "cell_type": "code",
   "execution_count": 1,
   "id": "050e659e-20f4-4b07-b724-21cb2ef26b76",
   "metadata": {
    "tags": []
   },
   "outputs": [
    {
     "name": "stderr",
     "output_type": "stream",
     "text": [
      "2025-06-30 12:51:53.253244: I tensorflow/core/util/port.cc:153] oneDNN custom operations are on. You may see slightly different numerical results due to floating-point round-off errors from different computation orders. To turn them off, set the environment variable `TF_ENABLE_ONEDNN_OPTS=0`.\n",
      "2025-06-30 12:51:53.267308: E external/local_xla/xla/stream_executor/cuda/cuda_fft.cc:485] Unable to register cuFFT factory: Attempting to register factory for plugin cuFFT when one has already been registered\n",
      "2025-06-30 12:51:53.282830: E external/local_xla/xla/stream_executor/cuda/cuda_dnn.cc:8454] Unable to register cuDNN factory: Attempting to register factory for plugin cuDNN when one has already been registered\n",
      "2025-06-30 12:51:53.287293: E external/local_xla/xla/stream_executor/cuda/cuda_blas.cc:1452] Unable to register cuBLAS factory: Attempting to register factory for plugin cuBLAS when one has already been registered\n",
      "2025-06-30 12:51:53.299207: I tensorflow/core/platform/cpu_feature_guard.cc:210] This TensorFlow binary is optimized to use available CPU instructions in performance-critical operations.\n",
      "To enable the following instructions: AVX2 AVX512F AVX512_VNNI AVX512_BF16 AVX512_FP16 AVX_VNNI AMX_TILE AMX_INT8 AMX_BF16 FMA, in other operations, rebuild TensorFlow with the appropriate compiler flags.\n"
     ]
    }
   ],
   "source": [
    "import numpy as np\n",
    "import pandas as pd\n",
    "import tensorflow.compat.v1 as tf\n",
    "from koopmanlib.dictionary import PsiNN\n",
    "from koopmanlib.solver import KoopmanDLSolver"
   ]
  },
  {
   "cell_type": "code",
   "execution_count": 4,
   "id": "b602e280-468b-4cf2-a863-55ec84de6de8",
   "metadata": {
    "tags": []
   },
   "outputs": [],
   "source": [
    "dim = 3 \n",
    "hidden_dim = 10  \n",
    "input_dim = 0\n",
    "num_visible = 2\n",
    "num_hidden = 1\n",
    "hidden_size = 32\n",
    "kernel_size = 31\n",
    "n_blocks = 3\n",
    "n_layers = 1\n",
    "n_feature = 2\n",
    "rank = 3\n",
    "batch_size = 512\n",
    "n_train = 10000\n",
    "n_valid = 1000\n",
    "n_test = 1000\n",
    "dropout = 0\n",
    "num_epochs = 20\n",
    "lamb = 0\n",
    "learning_rate = 1e-3"
   ]
  },
  {
   "cell_type": "code",
   "execution_count": 5,
   "id": "7be9de01-836e-4afa-b1f8-09abfbaa6f13",
   "metadata": {
    "tags": []
   },
   "outputs": [],
   "source": [
    "X_train = pd.read_csv('KO_train.csv', header=None)\n",
    "X_valid = pd.read_csv('KO_valid.csv', header=None)\n",
    "X_test = pd.read_csv('KO_test.csv', header=None)\n",
    "X_result = np.concatenate([X_train, X_test, X_valid], axis=-1)"
   ]
  },
  {
   "cell_type": "code",
   "execution_count": null,
   "id": "190e79be-eb36-4c14-a0d3-c56e65a8671a",
   "metadata": {
    "tags": []
   },
   "outputs": [],
   "source": [
    "idx_list = [[0, 1], [0, 2], [1, 2]]\n",
    "for idx in idx_list:\n",
    "    error_temp = []\n",
    "    X_v_train = X_train.values[idx, :].reshape(2, -1)\n",
    "    X_v_valid = X_valid.values[idx, :].reshape(2, -1)\n",
    "    X_v_test = X_test.values[idx, :].reshape(2, -1)\n",
    "    length = X_train.shape[1] // n_train\n",
    "    H_train = []\n",
    "    for i in range(n_train):\n",
    "        H_train.append(X_v_train[:, i*length:(i+1)*length])\n",
    "    H_train = np.stack([H_train[idx].T for idx in range(n_train)], axis=0)\n",
    "    H_valid = []\n",
    "    for i in range(n_valid):\n",
    "        H_valid.append(X_v_valid[:, i*length:(i+1)*length])\n",
    "    H_valid = np.stack([H_valid[idx].T for idx in range(n_valid)], axis=0)\n",
    "    H_test = []\n",
    "    for i in range(n_test):\n",
    "        H_test.append(X_v_test[:, i*length:(i+1)*length])\n",
    "    H_test = np.stack([H_test[idx].T for idx in range(n_test)], axis=0)\n",
    "    data_train = [H_train[:, 0:-1,:].reshape(-1, dim-1), H_train[:, 1:,:].reshape(-1, dim-1)]\n",
    "    data_valid = [H_valid[:, 0:-1,:].reshape(-1, dim-1), H_valid[:, 1:,:].reshape(-1, dim-1)]\n",
    "    basis_function = PsiNN(layer_sizes=[hidden_dim, hidden_dim, hidden_dim], n_psi_train=dim+n_feature)\n",
    "    solver = KoopmanDLSolver(dic=basis_function,\n",
    "                            target_dim=dim-1,\n",
    "                            reg=0.0)\n",
    "    solver.build(data_train=data_train,\n",
    "                     data_valid=data_valid,\n",
    "                     epochs=num_epochs,\n",
    "                     batch_size=batch_size,\n",
    "                     lr=learning_rate,\n",
    "                     log_interval=1,\n",
    "                     lr_decay_factor=0.92)\n",
    "    for j in range(n_test):\n",
    "        x_traj = H_test[j, :,:]\n",
    "        x0_test = x_traj[0]\n",
    "        x0_test = x0_test.reshape(-1, x0_test.shape[-1])\n",
    "        x_est_traj_DL = solver.predict(x0_test, length-1)\n",
    "        error_temp.append((x_est_traj_DL[:, :dim]-x_traj[1:, :dim]) ** 2)\n",
    "    error = np.mean(np.array(error_temp))\n",
    "    full_dims = set(range(dim)) \n",
    "    missing_dim = list(full_dims - set(idx))[0]\n",
    "    path = f\"error_hidden_{missing_dim}_edmddl.csv\"\n",
    "    df = pd.DataFrame([error])\n",
    "    df.to_csv(path, index=False)"
   ]
  }
 ],
 "metadata": {
  "kernelspec": {
   "display_name": "Python 3 (ipykernel)",
   "language": "python",
   "name": "python3"
  },
  "language_info": {
   "codemirror_mode": {
    "name": "ipython",
    "version": 3
   },
   "file_extension": ".py",
   "mimetype": "text/x-python",
   "name": "python",
   "nbconvert_exporter": "python",
   "pygments_lexer": "ipython3",
   "version": "3.11.9"
  }
 },
 "nbformat": 4,
 "nbformat_minor": 5
}
